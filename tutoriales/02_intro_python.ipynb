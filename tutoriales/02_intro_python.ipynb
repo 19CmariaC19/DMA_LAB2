{
  "nbformat": 4,
  "nbformat_minor": 0,
  "metadata": {
    "kernelspec": {
      "display_name": "Python 3",
      "language": "python",
      "name": "python3"
    },
    "language_info": {
      "codemirror_mode": {
        "name": "ipython",
        "version": 3
      },
      "file_extension": ".py",
      "mimetype": "text/x-python",
      "name": "python",
      "nbconvert_exporter": "python",
      "pygments_lexer": "ipython3",
      "version": "3.7.3-final"
    },
    "colab": {
      "name": "02_intro_python.ipynb",
      "provenance": []
    }
  },
  "cells": [
    {
      "cell_type": "code",
      "metadata": {
        "id": "lU53k3ocevXD",
        "colab_type": "code",
        "colab": {}
      },
      "source": [
        ""
      ],
      "execution_count": null,
      "outputs": []
    },
    {
      "cell_type": "markdown",
      "metadata": {
        "id": "e-KEplDxcwVo",
        "colab_type": "text"
      },
      "source": [
        "# Breve Introducción a Python\n",
        "\n",
        "Python es un lenguaje interpretado de tipos dinámicos. A diferencia de R, por ejemplo, es un lenguaje de uso general y su capacidad para las ciencias de datos no viene dada desde sus librerías internas sino por los módulos externos. Se puede usar en forma imperativa u orientada a objetos; teóricamente también dentro del paradigma de programación funcional, pero con ciertas limitaciones (existen límites para ejecución recursiva, por ejemplo).\n",
        "\n",
        "Python puro tiende a ser lento (para ejecutar, rápido para escribir), por tener tipos dinámicos y por el GIL. Sin embargo, el intérprete más comúnmente usado (CPytyhon) esta implementado en C y permite la integración de módulos externos de C, C++ y Fortran que, bien utilizados, permiten la aceleración de las partes claves de un programa. \n",
        "\n",
        "Desde lo estético, Python reemplaza las llaves por indentaciones, cosa que fuerza un código más leíble. Por lo demás, existe toda una \"filosofía\" de lo que es \"pythonico\", en términos de prolijidad, funcionalidad y belleza del código."
      ]
    },
    {
      "cell_type": "code",
      "metadata": {
        "id": "mN0WP8aVcwVq",
        "colab_type": "code",
        "colab": {}
      },
      "source": [
        "import this"
      ],
      "execution_count": null,
      "outputs": []
    },
    {
      "cell_type": "markdown",
      "metadata": {
        "id": "g53olKCkcwVw",
        "colab_type": "text"
      },
      "source": [
        "## Operaciones Básicas\n",
        "\n",
        "\n",
        "| Operador  | Operación                        | Ejemplo         |\n",
        "| --------- | -------------------------------- | --------------- |\n",
        "| **        | Potencia                         | `2 ** 3 = 8`    |\n",
        "| %         | Resto                            | `22 % 8 = 6`    |\n",
        "| //        | División de enteros              | `22 // 8 = 2`   |\n",
        "| /         | Division normal                  | `22 / 8 = 2.75` |\n",
        "| *         | Multiplicación                   | `3 * 3 = 9`     |\n",
        "| -         | Resta                            | `5 - 2 = 3`     |\n",
        "| +         | Suma         | `2 + 2 = 4`     |"
      ]
    },
    {
      "cell_type": "code",
      "metadata": {
        "id": "ms0eoeBhcwVx",
        "colab_type": "code",
        "colab": {}
      },
      "source": [
        "22 / 8"
      ],
      "execution_count": null,
      "outputs": []
    },
    {
      "cell_type": "code",
      "metadata": {
        "id": "7irUOkxzcwV1",
        "colab_type": "code",
        "colab": {}
      },
      "source": [
        "22 // 8, 22 % 8"
      ],
      "execution_count": null,
      "outputs": []
    },
    {
      "cell_type": "markdown",
      "metadata": {
        "id": "jljwXZSCcwV4",
        "colab_type": "text"
      },
      "source": [
        "## Variables\n",
        "\n",
        "Las variables se asignan con el signo igual =, y su nombre sólo se pueden usar letras, números y guió bajo (_), no se pueden usar espacios y tampoco pueden empezar con un número"
      ]
    },
    {
      "cell_type": "code",
      "metadata": {
        "id": "HNsQEozZcwV5",
        "colab_type": "code",
        "colab": {}
      },
      "source": [
        "123var = 123"
      ],
      "execution_count": null,
      "outputs": []
    },
    {
      "cell_type": "code",
      "metadata": {
        "id": "tqwMGxo_cwV8",
        "colab_type": "code",
        "colab": {}
      },
      "source": [
        "var = 123"
      ],
      "execution_count": null,
      "outputs": []
    },
    {
      "cell_type": "markdown",
      "metadata": {
        "id": "8AVi0fqtcwWB",
        "colab_type": "text"
      },
      "source": [
        "## Tipos Básicos de Datos\n",
        "\n",
        "\n",
        "| Tipo  | Ejemplo\n",
        "| --------- | --------------- |\n",
        "| Lógico    | True, False| \n",
        "| Entero    | 1, 2, 3| \n",
        "| Decimal o punto flotante         | 1.25, -120.25 | \n",
        "| Cadena o texto        | Hola, Adiós              | \n",
        "| Lista        | \\[1, 2, 3\\]              |\n",
        "| Diccionario        | {\"llave\": \"valor\"}              |"
      ]
    },
    {
      "cell_type": "code",
      "metadata": {
        "id": "lbTfl0gScwWB",
        "colab_type": "code",
        "colab": {}
      },
      "source": [
        "cadena = \"estos es una cadena de texto\"\n",
        "entero = 10\n",
        "punto_flotante = 10.4\n",
        "punto_flotante_alternativa = 10.\n",
        "lista = [\"elemento1\", \"elemento2\", 1236]\n",
        "tupla = (\"elemento1\", \"elemento2\", 1236)\n",
        "diccionario = {\"llave1\": 1, \"llave2\": 2}\n"
      ],
      "execution_count": null,
      "outputs": []
    },
    {
      "cell_type": "code",
      "metadata": {
        "tags": [],
        "id": "6sI7FNFxcwWF",
        "colab_type": "code",
        "colab": {}
      },
      "source": [
        "%whos"
      ],
      "execution_count": null,
      "outputs": []
    },
    {
      "cell_type": "markdown",
      "metadata": {
        "id": "bnhWjEf2cwWJ",
        "colab_type": "text"
      },
      "source": [
        "### Operaciones con cadenas de texto\n",
        "\n",
        "Las cadenas se pueden sumar y multiplicar, dependiendo el caso multiplicar es razonable, pero sumar esta desaconsejado; se recomienda usar formateo de texto"
      ]
    },
    {
      "cell_type": "code",
      "metadata": {
        "id": "hIQaBeP9cwWJ",
        "colab_type": "code",
        "colab": {}
      },
      "source": [
        "palabra1 = \"hola\"\n",
        "palabra2 = \"mundo\"\n",
        "palabra1 + palabra2"
      ],
      "execution_count": null,
      "outputs": []
    },
    {
      "cell_type": "code",
      "metadata": {
        "id": "EYPO6jGOcwWM",
        "colab_type": "code",
        "colab": {}
      },
      "source": [
        "f\"{palabra1} {palabra2}\""
      ],
      "execution_count": null,
      "outputs": []
    },
    {
      "cell_type": "code",
      "metadata": {
        "id": "e8XSiH9tcwWS",
        "colab_type": "code",
        "colab": {}
      },
      "source": [
        "num = 1233432.127\n",
        "por = 0.1568\n",
        "\n",
        "f\"interpolar tambien permite cosas complejas como separador de miles {num:,.2f} o porcentajes {por:.0%}\""
      ],
      "execution_count": null,
      "outputs": []
    },
    {
      "cell_type": "code",
      "metadata": {
        "id": "7mFq6rPAcwWV",
        "colab_type": "code",
        "colab": {}
      },
      "source": [
        "### Funciones básicas de los diccionarios"
      ],
      "execution_count": null,
      "outputs": []
    },
    {
      "cell_type": "code",
      "metadata": {
        "id": "VRW87CE-cwWZ",
        "colab_type": "code",
        "colab": {}
      },
      "source": [
        "diccionario.keys()"
      ],
      "execution_count": null,
      "outputs": []
    },
    {
      "cell_type": "code",
      "metadata": {
        "id": "ogwK-KQYcwWc",
        "colab_type": "code",
        "colab": {}
      },
      "source": [
        "diccionario.values()"
      ],
      "execution_count": null,
      "outputs": []
    },
    {
      "cell_type": "code",
      "metadata": {
        "id": "8InIw4GbcwWf",
        "colab_type": "code",
        "colab": {}
      },
      "source": [
        "diccionario.items()"
      ],
      "execution_count": null,
      "outputs": []
    },
    {
      "cell_type": "code",
      "metadata": {
        "tags": [],
        "id": "3YuWQn5PcwWj",
        "colab_type": "code",
        "colab": {}
      },
      "source": [
        "print(diccionario[\"llave1\"])\n",
        "diccionario.llave1"
      ],
      "execution_count": null,
      "outputs": []
    },
    {
      "cell_type": "code",
      "metadata": {
        "id": "c0ldNTJAcwWm",
        "colab_type": "code",
        "colab": {}
      },
      "source": [
        "lista[0]"
      ],
      "execution_count": null,
      "outputs": []
    },
    {
      "cell_type": "code",
      "metadata": {
        "id": "v_lld55vcwWp",
        "colab_type": "code",
        "colab": {}
      },
      "source": [
        "tupla[0]"
      ],
      "execution_count": null,
      "outputs": []
    },
    {
      "cell_type": "code",
      "metadata": {
        "id": "vZ3ylubycwWs",
        "colab_type": "code",
        "colab": {}
      },
      "source": [
        "lista[-1]"
      ],
      "execution_count": null,
      "outputs": []
    },
    {
      "cell_type": "code",
      "metadata": {
        "id": "wXXZnirYcwWy",
        "colab_type": "code",
        "colab": {}
      },
      "source": [
        "lista[0] = \"otro elemento\"\n",
        "lista"
      ],
      "execution_count": null,
      "outputs": []
    },
    {
      "cell_type": "code",
      "metadata": {
        "id": "5xqa9vXFcwW1",
        "colab_type": "code",
        "colab": {}
      },
      "source": [
        "tupla[0] = \"otro elemento\""
      ],
      "execution_count": null,
      "outputs": []
    }
  ]
}