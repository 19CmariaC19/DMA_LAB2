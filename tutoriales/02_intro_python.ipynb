{
  "nbformat": 4,
  "nbformat_minor": 0,
  "metadata": {
    "kernelspec": {
      "display_name": "Python 3",
      "language": "python",
      "name": "python3"
    },
    "language_info": {
      "codemirror_mode": {
        "name": "ipython",
        "version": 3
      },
      "file_extension": ".py",
      "mimetype": "text/x-python",
      "name": "python",
      "nbconvert_exporter": "python",
      "pygments_lexer": "ipython3",
      "version": "3.7.3-final"
    },
    "colab": {
      "name": "02_intro_python.ipynb",
      "provenance": [],
      "include_colab_link": true
    }
  },
  "cells": [
    {
      "cell_type": "markdown",
      "metadata": {
        "id": "view-in-github",
        "colab_type": "text"
      },
      "source": [
        "<a href=\"https://colab.research.google.com/github/Argentan/DMA_LAB2/blob/master/tutoriales/02_intro_python.ipynb\" target=\"_parent\"><img src=\"https://colab.research.google.com/assets/colab-badge.svg\" alt=\"Open In Colab\"/></a>"
      ]
    },
    {
      "cell_type": "markdown",
      "metadata": {
        "id": "e-KEplDxcwVo",
        "colab_type": "text"
      },
      "source": [
        "# Breve Introducción a Python\n",
        "\n",
        "Python es un lenguaje interpretado de tipos dinámicos. A diferencia de R, por ejemplo, es un lenguaje de uso general y su capacidad para las ciencias de datos no viene dada desde sus librerías internas sino por los módulos externos. Se puede usar en forma imperativa u orientada a objetos; teóricamente también dentro del paradigma de programación funcional, pero con ciertas limitaciones (existen límites para ejecución recursiva, por ejemplo).\n",
        "\n",
        "Python puro tiende a ser lento (para ejecutar, rápido para escribir), por tener tipos dinámicos y por el GIL. Sin embargo, el intérprete más comúnmente usado (CPytyhon) esta implementado en C y permite la integración de módulos externos de C, C++ y Fortran que, bien utilizados, permiten la aceleración de las partes claves de un programa. \n",
        "\n",
        "Desde lo estético, Python reemplaza las llaves por indentaciones, cosa que fuerza un código más leíble. Por lo demás, existe toda una \"filosofía\" de lo que es \"pythonico\", en términos de prolijidad, funcionalidad y belleza del código."
      ]
    },
    {
      "cell_type": "code",
      "metadata": {
        "id": "mN0WP8aVcwVq",
        "colab_type": "code",
        "colab": {
          "base_uri": "https://localhost:8080/",
          "height": 370
        },
        "outputId": "8113ba2f-77ed-45bc-fdf1-0762f974460e"
      },
      "source": [
        "import this"
      ],
      "execution_count": 1,
      "outputs": [
        {
          "output_type": "stream",
          "text": [
            "The Zen of Python, by Tim Peters\n",
            "\n",
            "Beautiful is better than ugly.\n",
            "Explicit is better than implicit.\n",
            "Simple is better than complex.\n",
            "Complex is better than complicated.\n",
            "Flat is better than nested.\n",
            "Sparse is better than dense.\n",
            "Readability counts.\n",
            "Special cases aren't special enough to break the rules.\n",
            "Although practicality beats purity.\n",
            "Errors should never pass silently.\n",
            "Unless explicitly silenced.\n",
            "In the face of ambiguity, refuse the temptation to guess.\n",
            "There should be one-- and preferably only one --obvious way to do it.\n",
            "Although that way may not be obvious at first unless you're Dutch.\n",
            "Now is better than never.\n",
            "Although never is often better than *right* now.\n",
            "If the implementation is hard to explain, it's a bad idea.\n",
            "If the implementation is easy to explain, it may be a good idea.\n",
            "Namespaces are one honking great idea -- let's do more of those!\n"
          ],
          "name": "stdout"
        }
      ]
    },
    {
      "cell_type": "markdown",
      "metadata": {
        "id": "g53olKCkcwVw",
        "colab_type": "text"
      },
      "source": [
        "## Operaciones Básicas\n",
        "\n",
        "\n",
        "| Operador  | Operación                        | Ejemplo         |\n",
        "| --------- | -------------------------------- | --------------- |\n",
        "| **        | Potencia                         | `2 ** 3 = 8`    |\n",
        "| %         | Resto                            | `22 % 8 = 6`    |\n",
        "| //        | División de enteros              | `22 // 8 = 2`   |\n",
        "| /         | Division normal                  | `22 / 8 = 2.75` |\n",
        "| *         | Multiplicación                   | `3 * 3 = 9`     |\n",
        "| -         | Resta                            | `5 - 2 = 3`     |\n",
        "| +         | Suma         | `2 + 2 = 4`     |"
      ]
    },
    {
      "cell_type": "code",
      "metadata": {
        "id": "ms0eoeBhcwVx",
        "colab_type": "code",
        "colab": {}
      },
      "source": [
        "22 / 8"
      ],
      "execution_count": null,
      "outputs": []
    },
    {
      "cell_type": "code",
      "metadata": {
        "id": "7irUOkxzcwV1",
        "colab_type": "code",
        "colab": {}
      },
      "source": [
        "22 // 8, 22 % 8"
      ],
      "execution_count": null,
      "outputs": []
    },
    {
      "cell_type": "markdown",
      "metadata": {
        "id": "jljwXZSCcwV4",
        "colab_type": "text"
      },
      "source": [
        "## Variables\n",
        "\n",
        "Las variables se asignan con el signo igual =, y su nombre sólo se pueden usar letras, números y guió bajo (_), no se pueden usar espacios y tampoco pueden empezar con un número"
      ]
    },
    {
      "cell_type": "code",
      "metadata": {
        "id": "HNsQEozZcwV5",
        "colab_type": "code",
        "colab": {}
      },
      "source": [
        "123var = 123"
      ],
      "execution_count": null,
      "outputs": []
    },
    {
      "cell_type": "code",
      "metadata": {
        "id": "tqwMGxo_cwV8",
        "colab_type": "code",
        "colab": {}
      },
      "source": [
        "var = 123"
      ],
      "execution_count": 36,
      "outputs": []
    },
    {
      "cell_type": "code",
      "metadata": {
        "id": "KRuyTzD2mcw-",
        "colab_type": "code",
        "colab": {
          "base_uri": "https://localhost:8080/",
          "height": 34
        },
        "outputId": "2c86f0d2-14fb-453b-e762-b6d1db5d267c"
      },
      "source": [
        "type(var)"
      ],
      "execution_count": 37,
      "outputs": [
        {
          "output_type": "execute_result",
          "data": {
            "text/plain": [
              "int"
            ]
          },
          "metadata": {
            "tags": []
          },
          "execution_count": 37
        }
      ]
    },
    {
      "cell_type": "markdown",
      "metadata": {
        "id": "8AVi0fqtcwWB",
        "colab_type": "text"
      },
      "source": [
        "## Tipos Básicos de Datos\n",
        "\n",
        "\n",
        "| Tipo  | Ejemplo\n",
        "| --------- | --------------- |\n",
        "| Lógico    | True, False| \n",
        "| Entero    | 1, 2, 3| \n",
        "| Decimal o punto flotante         | 1.25, -120.25 | \n",
        "| Cadena o texto        | Hola, Adiós              | \n",
        "| Lista        | \\[1, 2, 3\\]              |\n",
        "| Diccionario        | {\"llave\": \"valor\"}              |"
      ]
    },
    {
      "cell_type": "code",
      "metadata": {
        "id": "lbTfl0gScwWB",
        "colab_type": "code",
        "colab": {}
      },
      "source": [
        "cadena = \"estos es una cadena de texto\"\n",
        "\n",
        "entero = 10\n",
        "\n",
        "punto_flotante = 10.4\n",
        "\n",
        "punto_flotante_alternativa = 10.\n",
        "\n",
        "booleano = False\n",
        "\n",
        "lista = [\"elemento1\", \"elemento2\", 1236, 10.2, 2., True]\n",
        "\n",
        "tupla = (\"elemento1\", \"elemento2\", 1236, 10.2, 2., True)\n",
        "\n",
        "diccionario = {\"llave1\": 1, \"llave2\": 2}\n"
      ],
      "execution_count": 40,
      "outputs": []
    },
    {
      "cell_type": "markdown",
      "metadata": {
        "id": "IaSioeQAjQZs",
        "colab_type": "text"
      },
      "source": [
        "Vemos las Variables usando el comando mágico \"whos\"\n"
      ]
    },
    {
      "cell_type": "code",
      "metadata": {
        "tags": [],
        "id": "6sI7FNFxcwWF",
        "colab_type": "code",
        "colab": {
          "base_uri": "https://localhost:8080/",
          "height": 286
        },
        "outputId": "8b24c2cb-63f0-4bc2-82f9-f604e33fa9bd"
      },
      "source": [
        "%whos"
      ],
      "execution_count": 41,
      "outputs": [
        {
          "output_type": "stream",
          "text": [
            "Variable                     Type      Data/Info\n",
            "------------------------------------------------\n",
            "booleano                     bool      False\n",
            "cadena                       str       estos es una cadena de texto\n",
            "diccionario                  dict      n=2\n",
            "entero                       int       10\n",
            "lista                        list      n=6\n",
            "num                          float     1233432.127\n",
            "palabra1                     str       hola\n",
            "palabra2                     str       mundo\n",
            "por                          float     0.1568\n",
            "punto_flotante               float     10.4\n",
            "punto_flotante_alternativa   float     10.0\n",
            "this                         module    <module 'this' from '/usr/lib/python3.6/this.py'>\n",
            "tupla                        tuple     n=6\n",
            "var                          int       123\n"
          ],
          "name": "stdout"
        }
      ]
    },
    {
      "cell_type": "markdown",
      "metadata": {
        "id": "bnhWjEf2cwWJ",
        "colab_type": "text"
      },
      "source": [
        "### Operaciones con cadenas de texto\n",
        "\n",
        "Las cadenas se pueden sumar y multiplicar, dependiendo el caso multiplicar es razonable, pero sumar esta desaconsejado; se recomienda usar formateo de texto"
      ]
    },
    {
      "cell_type": "code",
      "metadata": {
        "id": "hIQaBeP9cwWJ",
        "colab_type": "code",
        "colab": {
          "base_uri": "https://localhost:8080/",
          "height": 35
        },
        "outputId": "d79903a0-3b4c-42ec-8d2a-756e7508ca25"
      },
      "source": [
        "palabra1 = \"hola\"\n",
        "palabra2 = \"mundo\"\n",
        "palabra1 + palabra2"
      ],
      "execution_count": 4,
      "outputs": [
        {
          "output_type": "execute_result",
          "data": {
            "application/vnd.google.colaboratory.intrinsic+json": {
              "type": "string"
            },
            "text/plain": [
              "'holamundo'"
            ]
          },
          "metadata": {
            "tags": []
          },
          "execution_count": 4
        }
      ]
    },
    {
      "cell_type": "markdown",
      "metadata": {
        "id": "zj94Rkq_j8ZA",
        "colab_type": "text"
      },
      "source": [
        "Usando fomateo de texto:"
      ]
    },
    {
      "cell_type": "code",
      "metadata": {
        "id": "EYPO6jGOcwWM",
        "colab_type": "code",
        "colab": {
          "base_uri": "https://localhost:8080/",
          "height": 35
        },
        "outputId": "5b2ec199-4097-4a70-cc11-0f468a5f5fb3"
      },
      "source": [
        "f\"{palabra1} {palabra2}\""
      ],
      "execution_count": 5,
      "outputs": [
        {
          "output_type": "execute_result",
          "data": {
            "application/vnd.google.colaboratory.intrinsic+json": {
              "type": "string"
            },
            "text/plain": [
              "'hola mundo'"
            ]
          },
          "metadata": {
            "tags": []
          },
          "execution_count": 5
        }
      ]
    },
    {
      "cell_type": "code",
      "metadata": {
        "id": "e8XSiH9tcwWS",
        "colab_type": "code",
        "colab": {
          "base_uri": "https://localhost:8080/",
          "height": 35
        },
        "outputId": "5598008a-e047-45d4-ad61-882948949156"
      },
      "source": [
        "num = 1233432.127\n",
        "por = 0.1568\n",
        "\n",
        "f\"interpolar tambien permite cosas complejas como separador de miles {num:,.2f} o porcentajes {por:.0%}\""
      ],
      "execution_count": 21,
      "outputs": [
        {
          "output_type": "execute_result",
          "data": {
            "application/vnd.google.colaboratory.intrinsic+json": {
              "type": "string"
            },
            "text/plain": [
              "'interpolar tambien permite cosas complejas como separador de miles 1,233,432.13 o porcentajes 16%'"
            ]
          },
          "metadata": {
            "tags": []
          },
          "execution_count": 21
        }
      ]
    },
    {
      "cell_type": "markdown",
      "metadata": {
        "id": "OCX5An0YkEA9",
        "colab_type": "text"
      },
      "source": [
        "### Funciones básicas de los diccionarios"
      ]
    },
    {
      "cell_type": "code",
      "metadata": {
        "id": "xb_fQcjOlKHB",
        "colab_type": "code",
        "colab": {
          "base_uri": "https://localhost:8080/",
          "height": 34
        },
        "outputId": "0efece94-5909-4dc1-b6de-c82f60bd3a09"
      },
      "source": [
        "diccionario"
      ],
      "execution_count": 30,
      "outputs": [
        {
          "output_type": "execute_result",
          "data": {
            "text/plain": [
              "{'llave1': 1, 'llave2': 2}"
            ]
          },
          "metadata": {
            "tags": []
          },
          "execution_count": 30
        }
      ]
    },
    {
      "cell_type": "code",
      "metadata": {
        "id": "VRW87CE-cwWZ",
        "colab_type": "code",
        "colab": {
          "base_uri": "https://localhost:8080/",
          "height": 34
        },
        "outputId": "125a2b8e-355d-48b7-d799-cb9b21f28938"
      },
      "source": [
        "diccionario.keys()"
      ],
      "execution_count": 22,
      "outputs": [
        {
          "output_type": "execute_result",
          "data": {
            "text/plain": [
              "dict_keys(['llave1', 'llave2'])"
            ]
          },
          "metadata": {
            "tags": []
          },
          "execution_count": 22
        }
      ]
    },
    {
      "cell_type": "code",
      "metadata": {
        "id": "ogwK-KQYcwWc",
        "colab_type": "code",
        "colab": {
          "base_uri": "https://localhost:8080/",
          "height": 34
        },
        "outputId": "951400f2-dbc9-4b85-8b8b-f7089818ae95"
      },
      "source": [
        "diccionario.values()"
      ],
      "execution_count": 23,
      "outputs": [
        {
          "output_type": "execute_result",
          "data": {
            "text/plain": [
              "dict_values([1, 2])"
            ]
          },
          "metadata": {
            "tags": []
          },
          "execution_count": 23
        }
      ]
    },
    {
      "cell_type": "code",
      "metadata": {
        "id": "8InIw4GbcwWf",
        "colab_type": "code",
        "colab": {
          "base_uri": "https://localhost:8080/",
          "height": 34
        },
        "outputId": "3f66e6f6-d60b-4804-8b90-101b014910d9"
      },
      "source": [
        "diccionario.items()"
      ],
      "execution_count": 24,
      "outputs": [
        {
          "output_type": "execute_result",
          "data": {
            "text/plain": [
              "dict_items([('llave1', 1), ('llave2', 2)])"
            ]
          },
          "metadata": {
            "tags": []
          },
          "execution_count": 24
        }
      ]
    },
    {
      "cell_type": "code",
      "metadata": {
        "tags": [],
        "id": "3YuWQn5PcwWj",
        "colab_type": "code",
        "colab": {
          "base_uri": "https://localhost:8080/",
          "height": 34
        },
        "outputId": "037d2279-0885-4ba0-a1b0-457efcc316d6"
      },
      "source": [
        "diccionario[\"llave1\"]"
      ],
      "execution_count": 26,
      "outputs": [
        {
          "output_type": "execute_result",
          "data": {
            "text/plain": [
              "1"
            ]
          },
          "metadata": {
            "tags": []
          },
          "execution_count": 26
        }
      ]
    },
    {
      "cell_type": "markdown",
      "metadata": {
        "id": "soNV1KDSlPnm",
        "colab_type": "text"
      },
      "source": [
        "### Funciones básicas de las Listas"
      ]
    },
    {
      "cell_type": "markdown",
      "metadata": {
        "id": "EL8UIRKLm33h",
        "colab_type": "text"
      },
      "source": [
        "Los elementos de una lista se pueden acceder mediante su indice\n",
        "\n",
        "* Todos los indices empiezan en 0\n",
        "* Se usan numeros enteros\n",
        "* El indice maximo equivale a la cantidad de (elementos - 1)\n",
        "* Se accede al elemento con [*indice*]\n",
        "* Si el indice es negativo, se cuenta desde el final"
      ]
    },
    {
      "cell_type": "code",
      "metadata": {
        "id": "xSAUzLSilL3w",
        "colab_type": "code",
        "colab": {
          "base_uri": "https://localhost:8080/",
          "height": 34
        },
        "outputId": "cb81f74e-94f5-41d2-9f45-a0d8d8966747"
      },
      "source": [
        "lista"
      ],
      "execution_count": 42,
      "outputs": [
        {
          "output_type": "execute_result",
          "data": {
            "text/plain": [
              "['elemento1', 'elemento2', 1236, 10.2, 2.0, True]"
            ]
          },
          "metadata": {
            "tags": []
          },
          "execution_count": 42
        }
      ]
    },
    {
      "cell_type": "code",
      "metadata": {
        "id": "c0ldNTJAcwWm",
        "colab_type": "code",
        "colab": {
          "base_uri": "https://localhost:8080/",
          "height": 35
        },
        "outputId": "1c074e34-4174-4fcf-d422-feb411710209"
      },
      "source": [
        "lista[0]"
      ],
      "execution_count": 29,
      "outputs": [
        {
          "output_type": "execute_result",
          "data": {
            "application/vnd.google.colaboratory.intrinsic+json": {
              "type": "string"
            },
            "text/plain": [
              "'elemento1'"
            ]
          },
          "metadata": {
            "tags": []
          },
          "execution_count": 29
        }
      ]
    },
    {
      "cell_type": "code",
      "metadata": {
        "id": "v_lld55vcwWp",
        "colab_type": "code",
        "colab": {
          "base_uri": "https://localhost:8080/",
          "height": 35
        },
        "outputId": "6f123e31-3576-4f30-86f8-936577309f8e"
      },
      "source": [
        "tupla[0]"
      ],
      "execution_count": 32,
      "outputs": [
        {
          "output_type": "execute_result",
          "data": {
            "application/vnd.google.colaboratory.intrinsic+json": {
              "type": "string"
            },
            "text/plain": [
              "'elemento1'"
            ]
          },
          "metadata": {
            "tags": []
          },
          "execution_count": 32
        }
      ]
    },
    {
      "cell_type": "code",
      "metadata": {
        "id": "vZ3ylubycwWs",
        "colab_type": "code",
        "colab": {
          "base_uri": "https://localhost:8080/",
          "height": 34
        },
        "outputId": "fdcb15f1-5682-42f5-b954-b37d2ec3fe72"
      },
      "source": [
        "lista[-1]"
      ],
      "execution_count": 33,
      "outputs": [
        {
          "output_type": "execute_result",
          "data": {
            "text/plain": [
              "1236"
            ]
          },
          "metadata": {
            "tags": []
          },
          "execution_count": 33
        }
      ]
    },
    {
      "cell_type": "code",
      "metadata": {
        "id": "wXXZnirYcwWy",
        "colab_type": "code",
        "colab": {
          "base_uri": "https://localhost:8080/",
          "height": 34
        },
        "outputId": "2a38ec1b-692e-4a86-ad91-c9e8f9ecb23b"
      },
      "source": [
        "lista[0] = \"otro elemento\"\n",
        "lista"
      ],
      "execution_count": 34,
      "outputs": [
        {
          "output_type": "execute_result",
          "data": {
            "text/plain": [
              "['otro elemento', 'elemento2', 1236]"
            ]
          },
          "metadata": {
            "tags": []
          },
          "execution_count": 34
        }
      ]
    },
    {
      "cell_type": "code",
      "metadata": {
        "id": "5xqa9vXFcwW1",
        "colab_type": "code",
        "colab": {}
      },
      "source": [
        "tupla[0] = \"otro elemento\""
      ],
      "execution_count": null,
      "outputs": []
    },
    {
      "cell_type": "markdown",
      "metadata": {
        "id": "Kt5ujtaHbGU7",
        "colab_type": "text"
      },
      "source": [
        "### Seleccionando rangos\n",
        "Se pueden seleccionar mas de un elemento de una lista usando '**:**'\n",
        "\n",
        "Para seleccionar los primeros 2 se hace **[:2]**"
      ]
    },
    {
      "cell_type": "code",
      "metadata": {
        "id": "b0zVMSoBbGU8",
        "colab_type": "code",
        "colab": {
          "base_uri": "https://localhost:8080/",
          "height": 34
        },
        "outputId": "a04a6666-7dc6-4a2e-dc48-99e58cbd689d"
      },
      "source": [
        "lista[:2]"
      ],
      "execution_count": 43,
      "outputs": [
        {
          "output_type": "execute_result",
          "data": {
            "text/plain": [
              "['elemento1', 'elemento2']"
            ]
          },
          "metadata": {
            "tags": []
          },
          "execution_count": 43
        }
      ]
    },
    {
      "cell_type": "markdown",
      "metadata": {
        "id": "7UFlt-jabGU_",
        "colab_type": "text"
      },
      "source": [
        "Los ultimos dos:"
      ]
    },
    {
      "cell_type": "code",
      "metadata": {
        "id": "7EpjzgR2bGU_",
        "colab_type": "code",
        "colab": {
          "base_uri": "https://localhost:8080/",
          "height": 34
        },
        "outputId": "9935963f-fc5c-4074-ca18-313ac3b853c4"
      },
      "source": [
        "lista[-2:]"
      ],
      "execution_count": 44,
      "outputs": [
        {
          "output_type": "execute_result",
          "data": {
            "text/plain": [
              "[2.0, True]"
            ]
          },
          "metadata": {
            "tags": []
          },
          "execution_count": 44
        }
      ]
    },
    {
      "cell_type": "markdown",
      "metadata": {
        "id": "RKQRq8aEbGVD",
        "colab_type": "text"
      },
      "source": [
        "Que es lo mismo que seleccionar desde el 3o al ultimo"
      ]
    },
    {
      "cell_type": "code",
      "metadata": {
        "id": "fevDPv2UbGVE",
        "colab_type": "code",
        "colab": {
          "base_uri": "https://localhost:8080/",
          "height": 34
        },
        "outputId": "3f0c236c-3b33-4012-f8cf-ea4acc0f8a9d"
      },
      "source": [
        "lista[3:]"
      ],
      "execution_count": 45,
      "outputs": [
        {
          "output_type": "execute_result",
          "data": {
            "text/plain": [
              "[10.2, 2.0, True]"
            ]
          },
          "metadata": {
            "tags": []
          },
          "execution_count": 45
        }
      ]
    },
    {
      "cell_type": "markdown",
      "metadata": {
        "id": "GBvRbjv6bGVJ",
        "colab_type": "text"
      },
      "source": [
        "Del segundo al cuarto (ojo que el segundo elemento es el indice 1)"
      ]
    },
    {
      "cell_type": "code",
      "metadata": {
        "id": "2hrrBggVbGVK",
        "colab_type": "code",
        "colab": {
          "base_uri": "https://localhost:8080/",
          "height": 34
        },
        "outputId": "4e281b49-4a1a-4318-aabc-cd2c4548f91e"
      },
      "source": [
        "lista[1:4]"
      ],
      "execution_count": 46,
      "outputs": [
        {
          "output_type": "execute_result",
          "data": {
            "text/plain": [
              "['elemento2', 1236, 10.2]"
            ]
          },
          "metadata": {
            "tags": []
          },
          "execution_count": 46
        }
      ]
    },
    {
      "cell_type": "markdown",
      "metadata": {
        "id": "kGxP0Qz24-7S",
        "colab_type": "text"
      },
      "source": [
        "## Ejercicios"
      ]
    },
    {
      "cell_type": "markdown",
      "metadata": {
        "id": "qlzrN9NHnuQB",
        "colab_type": "text"
      },
      "source": [
        "#### Objetos y Tipos\n"
      ]
    },
    {
      "cell_type": "markdown",
      "metadata": {
        "id": "WUOCDKpE5DZV",
        "colab_type": "text"
      },
      "source": [
        "Asignar a un objeto llamado \"Numero\" el resultado de: 100 / 4"
      ]
    },
    {
      "cell_type": "code",
      "metadata": {
        "id": "Dp-SMIjH5ByA",
        "colab_type": "code",
        "colab": {}
      },
      "source": [
        ""
      ],
      "execution_count": null,
      "outputs": []
    },
    {
      "cell_type": "markdown",
      "metadata": {
        "id": "CwvaZdLy5LxJ",
        "colab_type": "text"
      },
      "source": [
        "Ver el Tipo de Dato de el objeto Numero"
      ]
    },
    {
      "cell_type": "code",
      "metadata": {
        "id": "ZgLehZki5ipM",
        "colab_type": "code",
        "colab": {}
      },
      "source": [
        ""
      ],
      "execution_count": null,
      "outputs": []
    },
    {
      "cell_type": "markdown",
      "metadata": {
        "id": "GmdMqgOXnq3t",
        "colab_type": "text"
      },
      "source": [
        "#### Listas"
      ]
    },
    {
      "cell_type": "markdown",
      "metadata": {
        "id": "Mg5vnAn36CuH",
        "colab_type": "text"
      },
      "source": [
        "Crear una Lista llamada \"Letras\" que contenga 5 letras de la A a la E  (A, B, C, D, E)"
      ]
    },
    {
      "cell_type": "code",
      "metadata": {
        "id": "N3gKq4Tg6Bzl",
        "colab_type": "code",
        "colab": {}
      },
      "source": [
        ""
      ],
      "execution_count": null,
      "outputs": []
    },
    {
      "cell_type": "markdown",
      "metadata": {
        "id": "9UQAM2k_6cvK",
        "colab_type": "text"
      },
      "source": [
        "Buscar, usando el indice, el primer y el ultimo elemento de la lista"
      ]
    },
    {
      "cell_type": "code",
      "metadata": {
        "id": "zRByJpEp6cLU",
        "colab_type": "code",
        "colab": {}
      },
      "source": [
        ""
      ],
      "execution_count": null,
      "outputs": []
    },
    {
      "cell_type": "code",
      "metadata": {
        "id": "MRI3kQkl63wf",
        "colab_type": "code",
        "colab": {}
      },
      "source": [
        ""
      ],
      "execution_count": null,
      "outputs": []
    },
    {
      "cell_type": "markdown",
      "metadata": {
        "id": "bY6rTZCG62wu",
        "colab_type": "text"
      },
      "source": [
        "Buscar, usando el indice, los 3 primeros elementos de la lista"
      ]
    },
    {
      "cell_type": "code",
      "metadata": {
        "id": "a1eBD__q6kl_",
        "colab_type": "code",
        "colab": {}
      },
      "source": [
        ""
      ],
      "execution_count": null,
      "outputs": []
    }
  ]
}