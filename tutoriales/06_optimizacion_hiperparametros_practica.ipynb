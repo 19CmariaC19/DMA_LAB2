{
 "metadata": {
  "language_info": {
   "codemirror_mode": {
    "name": "ipython",
    "version": 3
   },
   "file_extension": ".py",
   "mimetype": "text/x-python",
   "name": "python",
   "nbconvert_exporter": "python",
   "pygments_lexer": "ipython3",
   "version": "3.7.9-final"
  },
  "orig_nbformat": 2,
  "kernelspec": {
   "name": "python3",
   "display_name": "Python 3"
  }
 },
 "nbformat": 4,
 "nbformat_minor": 2,
 "cells": [
  {
   "source": [
    "<a href=\"https://colab.research.google.com/github/Argentan/DMA_LAB2/blob/master/tutoriales/06_optimizacion_hiperparametros_practica.ipynb\" target=\"_parent\"><img src=\"https://colab.research.google.com/assets/colab-badge.svg\" alt=\"Open In Colab\"/></a>"
   ],
   "cell_type": "markdown",
   "metadata": {}
  },
  {
   "cell_type": "code",
   "execution_count": 1,
   "metadata": {},
   "outputs": [
    {
     "output_type": "execute_result",
     "data": {
      "text/plain": [
       "             Survived  Pclass  Sex   Age  SibSp  Parch  Ticket     Fare  \\\n",
       "PassengerId                                                               \n",
       "1                   0       3    0  22.0      1      0       0   7.2500   \n",
       "2                   1       1    1  38.0      1      0       1  71.2833   \n",
       "3                   1       3    1  26.0      0      0       2   7.9250   \n",
       "4                   1       1    1  35.0      1      0       3  53.1000   \n",
       "5                   0       3    0  35.0      0      0       4   8.0500   \n",
       "\n",
       "             Cabin  NumFam  C  Q  S  Age_nul  \n",
       "PassengerId                                   \n",
       "1                0       1  0  0  1        0  \n",
       "2                1       1  1  0  0        0  \n",
       "3                0       0  0  0  1        0  \n",
       "4                2       1  0  0  1        0  \n",
       "5                0       0  0  0  1        0  "
      ],
      "text/html": "<div>\n<style scoped>\n    .dataframe tbody tr th:only-of-type {\n        vertical-align: middle;\n    }\n\n    .dataframe tbody tr th {\n        vertical-align: top;\n    }\n\n    .dataframe thead th {\n        text-align: right;\n    }\n</style>\n<table border=\"1\" class=\"dataframe\">\n  <thead>\n    <tr style=\"text-align: right;\">\n      <th></th>\n      <th>Survived</th>\n      <th>Pclass</th>\n      <th>Sex</th>\n      <th>Age</th>\n      <th>SibSp</th>\n      <th>Parch</th>\n      <th>Ticket</th>\n      <th>Fare</th>\n      <th>Cabin</th>\n      <th>NumFam</th>\n      <th>C</th>\n      <th>Q</th>\n      <th>S</th>\n      <th>Age_nul</th>\n    </tr>\n    <tr>\n      <th>PassengerId</th>\n      <th></th>\n      <th></th>\n      <th></th>\n      <th></th>\n      <th></th>\n      <th></th>\n      <th></th>\n      <th></th>\n      <th></th>\n      <th></th>\n      <th></th>\n      <th></th>\n      <th></th>\n      <th></th>\n    </tr>\n  </thead>\n  <tbody>\n    <tr>\n      <th>1</th>\n      <td>0</td>\n      <td>3</td>\n      <td>0</td>\n      <td>22.0</td>\n      <td>1</td>\n      <td>0</td>\n      <td>0</td>\n      <td>7.2500</td>\n      <td>0</td>\n      <td>1</td>\n      <td>0</td>\n      <td>0</td>\n      <td>1</td>\n      <td>0</td>\n    </tr>\n    <tr>\n      <th>2</th>\n      <td>1</td>\n      <td>1</td>\n      <td>1</td>\n      <td>38.0</td>\n      <td>1</td>\n      <td>0</td>\n      <td>1</td>\n      <td>71.2833</td>\n      <td>1</td>\n      <td>1</td>\n      <td>1</td>\n      <td>0</td>\n      <td>0</td>\n      <td>0</td>\n    </tr>\n    <tr>\n      <th>3</th>\n      <td>1</td>\n      <td>3</td>\n      <td>1</td>\n      <td>26.0</td>\n      <td>0</td>\n      <td>0</td>\n      <td>2</td>\n      <td>7.9250</td>\n      <td>0</td>\n      <td>0</td>\n      <td>0</td>\n      <td>0</td>\n      <td>1</td>\n      <td>0</td>\n    </tr>\n    <tr>\n      <th>4</th>\n      <td>1</td>\n      <td>1</td>\n      <td>1</td>\n      <td>35.0</td>\n      <td>1</td>\n      <td>0</td>\n      <td>3</td>\n      <td>53.1000</td>\n      <td>2</td>\n      <td>1</td>\n      <td>0</td>\n      <td>0</td>\n      <td>1</td>\n      <td>0</td>\n    </tr>\n    <tr>\n      <th>5</th>\n      <td>0</td>\n      <td>3</td>\n      <td>0</td>\n      <td>35.0</td>\n      <td>0</td>\n      <td>0</td>\n      <td>4</td>\n      <td>8.0500</td>\n      <td>0</td>\n      <td>0</td>\n      <td>0</td>\n      <td>0</td>\n      <td>1</td>\n      <td>0</td>\n    </tr>\n  </tbody>\n</table>\n</div>"
     },
     "metadata": {},
     "execution_count": 1
    }
   ],
   "source": [
    "import pandas as pd\n",
    "try:\n",
    "    data = pd.read_csv(\"../data/titanic_proc.csv\", index_col=\"PassengerId\")\n",
    "except:\n",
    "    data = pd.read_csv(\"https://raw.githubusercontent.com/Argentan/DMA_LAB2/master/data/titanic_proc.csv\", index_col=\"PassengerId\")\n",
    "data.head()"
   ]
  },
  {
   "cell_type": "code",
   "execution_count": 29,
   "metadata": {},
   "outputs": [],
   "source": [
    "from sklearn.linear_model import LogisticRegression\n",
    "from lightgbm import LGBMClassifier\n",
    "from sklearn.model_selection import train_test_split, KFold, ParameterGrid"
   ]
  },
  {
   "cell_type": "code",
   "execution_count": 30,
   "metadata": {},
   "outputs": [],
   "source": [
    "train, test = train_test_split(data, test_size=0.2, random_state=1)"
   ]
  },
  {
   "cell_type": "code",
   "execution_count": 31,
   "metadata": {},
   "outputs": [],
   "source": [
    "folds = [train.index[idx] for _, idx in KFold(5, shuffle=True, random_state=1).split(train)]"
   ]
  },
  {
   "cell_type": "code",
   "execution_count": 39,
   "metadata": {},
   "outputs": [],
   "source": [
    "candidatos = [\n",
    "    {\"algoritmo\": LogisticRegression, \"params\": {\"C\": [0.1, 1], \"penalty\": [\"l1\", \"l2\"]}},\n",
    "    {\"algoritmo\": LGBMClassifier, \"params\": {\"num_leaves\": [10 , 20], \"max_depth\": [4 , 6, 8]}}\n",
    "]"
   ]
  },
  {
   "cell_type": "code",
   "execution_count": 40,
   "metadata": {},
   "outputs": [],
   "source": [
    "valid_probs = []\n",
    "test_probs = []\n",
    "for candidato in candidatos:\n",
    "    for params in ParameterGrid(candidato[\"params\"]):\n",
    "        test_fold_probs = []\n",
    "        valid_fold_probs = []\n",
    "        name = candidato[\"algoritmo\"].__name__ + \";\" + \";\".join([f\"{k}_{v}\" for k, v in params.items()])\n",
    "        for valid_idx in folds:\n",
    "            X_valid = train.loc[valid_idx].drop(\"Survived\", axis=1)\n",
    "            # y_valid = train.loc[valid_idx, \"Survived\"]\n",
    "\n",
    "            X_train = train.drop(valid_idx).drop(\"Survived\", axis=1)\n",
    "            y_train = train.loc[X_train.index, \"Survived\"]\n",
    "\n",
    "            model = candidato[\"algoritmo\"](**params)\n",
    "            model.fit(X_train, y_train)\n",
    "\n",
    "            p = model.predict_proba(test.drop(\"Survived\", axis=1))[:, -1]\n",
    "            test_fold_probs.append(pd.Series(p, name=..., index=...))\n",
    "\n",
    "            p = model.predict_proba(X_valid)[:, -1]\n",
    "            valid_fold_probs.append(pd.Series(p, name=..., index=...))\n",
    "        break\n",
    "        # test_probs.append(pd.concat(test_fold_probs, axis=???))\n",
    "        # valid_probs.append(pd.concat(valid_fold_probs, axis=???))\n",
    "    break"
   ]
  },
  {
   "cell_type": "code",
   "execution_count": null,
   "metadata": {},
   "outputs": [],
   "source": [
    "pd.concat(test_fold_probs)"
   ]
  }
 ]
}