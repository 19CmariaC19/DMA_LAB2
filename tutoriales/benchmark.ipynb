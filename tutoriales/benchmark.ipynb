{
 "cells": [
  {
   "cell_type": "code",
   "execution_count": 2,
   "metadata": {},
   "outputs": [
    {
     "name": "stdout",
     "output_type": "stream",
     "text": [
      "Collecting lightgbm\n",
      "  Downloading https://files.pythonhosted.org/packages/00/37/a392e669a83fef72b916009c438a924d2a9d70bc8aea62662b207105ed98/lightgbm-2.2.3-py2.py3-none-win_amd64.whl (515kB)\n",
      "Requirement already satisfied: scikit-learn in c:\\users\\rafael\\documents\\python\\current\\python-3.6.7.amd64\\lib\\site-packages (from lightgbm) (0.20)\n",
      "Requirement already satisfied: scipy in c:\\users\\rafael\\documents\\python\\current\\python-3.6.7.amd64\\lib\\site-packages (from lightgbm) (1.1.0)\n",
      "Requirement already satisfied: numpy in c:\\users\\rafael\\documents\\python\\current\\python-3.6.7.amd64\\lib\\site-packages (from lightgbm) (1.14.6+mkl)\n",
      "Installing collected packages: lightgbm\n",
      "Successfully installed lightgbm-2.2.3\n"
     ]
    },
    {
     "name": "stderr",
     "output_type": "stream",
     "text": [
      "You are using pip version 18.1, however version 19.1.1 is available.\n",
      "You should consider upgrading via the 'python -m pip install --upgrade pip' command.\n"
     ]
    }
   ],
   "source": [
    "!pip install lightgbm"
   ]
  },
  {
   "cell_type": "code",
   "execution_count": 1,
   "metadata": {},
   "outputs": [],
   "source": [
    "import pandas as pd\n",
    "from lightgbm import LGBMClassifier\n",
    "from sklearn import model_selection\n",
    "from sklearn.metrics import roc_auc_score"
   ]
  },
  {
   "cell_type": "code",
   "execution_count": 12,
   "metadata": {},
   "outputs": [],
   "source": [
    "data = pd.read_csv(\"../data/titanic.csv\", index_col=\"PassengerId\")"
   ]
  },
  {
   "cell_type": "code",
   "execution_count": 13,
   "metadata": {},
   "outputs": [],
   "source": [
    "for c in data.select_dtypes(\"object\").columns:\n",
    "    data[c] = data[c].astype(\"category\")"
   ]
  },
  {
   "cell_type": "code",
   "execution_count": 14,
   "metadata": {},
   "outputs": [
    {
     "data": {
      "text/plain": [
       "Survived       int64\n",
       "Pclass         int64\n",
       "Name        category\n",
       "Sex         category\n",
       "Age          float64\n",
       "SibSp          int64\n",
       "Parch          int64\n",
       "Ticket      category\n",
       "Fare         float64\n",
       "Cabin       category\n",
       "Embarked    category\n",
       "dtype: object"
      ]
     },
     "execution_count": 14,
     "metadata": {},
     "output_type": "execute_result"
    }
   ],
   "source": [
    "data.dtypes"
   ]
  },
  {
   "cell_type": "code",
   "execution_count": 15,
   "metadata": {},
   "outputs": [],
   "source": [
    "target = \"Survived\"\n",
    "X_train, X_test, y_train, y_test = model_selection.train_test_split(data.drop(target, axis=1), \n",
    "                                                                    data[target], test_size=0.1, random_state=0)"
   ]
  },
  {
   "cell_type": "code",
   "execution_count": 16,
   "metadata": {},
   "outputs": [],
   "source": [
    "kf = model_selection.KFold(n_splits=5)\n",
    "folds = [(y_train.index[train_idx], \n",
    "          y_train.index[valid_idx]) for train_idx, valid_idx \n",
    "         in kf.split(X_train)]"
   ]
  },
  {
   "cell_type": "code",
   "execution_count": 17,
   "metadata": {},
   "outputs": [
    {
     "name": "stdout",
     "output_type": "stream",
     "text": [
      "[1]\ttraining's auc: 0.90246\ttraining's binary_logloss: 0.619434\tvalid_1's auc: 0.858047\tvalid_1's binary_logloss: 0.611604\n",
      "Training until validation scores don't improve for 10 rounds.\n",
      "[2]\ttraining's auc: 0.90653\ttraining's binary_logloss: 0.581155\tvalid_1's auc: 0.855938\tvalid_1's binary_logloss: 0.580171\n",
      "[3]\ttraining's auc: 0.9085\ttraining's binary_logloss: 0.549875\tvalid_1's auc: 0.856781\tvalid_1's binary_logloss: 0.555068\n",
      "[4]\ttraining's auc: 0.908537\ttraining's binary_logloss: 0.52376\tvalid_1's auc: 0.857456\tvalid_1's binary_logloss: 0.533216\n",
      "[5]\ttraining's auc: 0.910033\ttraining's binary_logloss: 0.501282\tvalid_1's auc: 0.861758\tvalid_1's binary_logloss: 0.51395\n",
      "[6]\ttraining's auc: 0.910739\ttraining's binary_logloss: 0.48247\tvalid_1's auc: 0.863276\tvalid_1's binary_logloss: 0.498756\n",
      "[7]\ttraining's auc: 0.914242\ttraining's binary_logloss: 0.465714\tvalid_1's auc: 0.863023\tvalid_1's binary_logloss: 0.485219\n",
      "[8]\ttraining's auc: 0.914366\ttraining's binary_logloss: 0.450718\tvalid_1's auc: 0.862011\tvalid_1's binary_logloss: 0.475074\n",
      "[9]\ttraining's auc: 0.916584\ttraining's binary_logloss: 0.437737\tvalid_1's auc: 0.861336\tvalid_1's binary_logloss: 0.466326\n",
      "[10]\ttraining's auc: 0.920355\ttraining's binary_logloss: 0.4249\tvalid_1's auc: 0.863276\tvalid_1's binary_logloss: 0.457009\n",
      "[11]\ttraining's auc: 0.921598\ttraining's binary_logloss: 0.413686\tvalid_1's auc: 0.863529\tvalid_1's binary_logloss: 0.449964\n",
      "[12]\ttraining's auc: 0.922893\ttraining's binary_logloss: 0.404749\tvalid_1's auc: 0.865385\tvalid_1's binary_logloss: 0.442062\n",
      "[13]\ttraining's auc: 0.925483\ttraining's binary_logloss: 0.394591\tvalid_1's auc: 0.86724\tvalid_1's binary_logloss: 0.436887\n",
      "[14]\ttraining's auc: 0.926793\ttraining's binary_logloss: 0.386404\tvalid_1's auc: 0.868168\tvalid_1's binary_logloss: 0.431146\n",
      "[15]\ttraining's auc: 0.927443\ttraining's binary_logloss: 0.379494\tvalid_1's auc: 0.868421\tvalid_1's binary_logloss: 0.428055\n",
      "[16]\ttraining's auc: 0.928217\ttraining's binary_logloss: 0.373009\tvalid_1's auc: 0.869939\tvalid_1's binary_logloss: 0.424566\n",
      "[17]\ttraining's auc: 0.930028\ttraining's binary_logloss: 0.366193\tvalid_1's auc: 0.87306\tvalid_1's binary_logloss: 0.418819\n",
      "[18]\ttraining's auc: 0.931524\ttraining's binary_logloss: 0.360767\tvalid_1's auc: 0.875422\tvalid_1's binary_logloss: 0.414938\n",
      "[19]\ttraining's auc: 0.933778\ttraining's binary_logloss: 0.354818\tvalid_1's auc: 0.876771\tvalid_1's binary_logloss: 0.409802\n",
      "[20]\ttraining's auc: 0.93449\ttraining's binary_logloss: 0.350275\tvalid_1's auc: 0.878374\tvalid_1's binary_logloss: 0.40602\n",
      "[21]\ttraining's auc: 0.936806\ttraining's binary_logloss: 0.343896\tvalid_1's auc: 0.879302\tvalid_1's binary_logloss: 0.403877\n",
      "[22]\ttraining's auc: 0.937931\ttraining's binary_logloss: 0.338437\tvalid_1's auc: 0.880482\tvalid_1's binary_logloss: 0.401679\n",
      "[23]\ttraining's auc: 0.940226\ttraining's binary_logloss: 0.333161\tvalid_1's auc: 0.879302\tvalid_1's binary_logloss: 0.402145\n",
      "[24]\ttraining's auc: 0.941898\ttraining's binary_logloss: 0.328024\tvalid_1's auc: 0.879049\tvalid_1's binary_logloss: 0.400619\n",
      "[25]\ttraining's auc: 0.943724\ttraining's binary_logloss: 0.323142\tvalid_1's auc: 0.879808\tvalid_1's binary_logloss: 0.398514\n",
      "[26]\ttraining's auc: 0.944849\ttraining's binary_logloss: 0.319119\tvalid_1's auc: 0.87947\tvalid_1's binary_logloss: 0.39781\n",
      "[27]\ttraining's auc: 0.946453\ttraining's binary_logloss: 0.314357\tvalid_1's auc: 0.879639\tvalid_1's binary_logloss: 0.395521\n",
      "[28]\ttraining's auc: 0.948114\ttraining's binary_logloss: 0.31007\tvalid_1's auc: 0.882169\tvalid_1's binary_logloss: 0.393423\n",
      "[29]\ttraining's auc: 0.949409\ttraining's binary_logloss: 0.305951\tvalid_1's auc: 0.881326\tvalid_1's binary_logloss: 0.393624\n",
      "[30]\ttraining's auc: 0.951318\ttraining's binary_logloss: 0.3018\tvalid_1's auc: 0.882422\tvalid_1's binary_logloss: 0.392458\n",
      "[31]\ttraining's auc: 0.953928\ttraining's binary_logloss: 0.296744\tvalid_1's auc: 0.879723\tvalid_1's binary_logloss: 0.394183\n",
      "[32]\ttraining's auc: 0.95496\ttraining's binary_logloss: 0.29335\tvalid_1's auc: 0.879386\tvalid_1's binary_logloss: 0.39414\n",
      "[33]\ttraining's auc: 0.956636\ttraining's binary_logloss: 0.289122\tvalid_1's auc: 0.878374\tvalid_1's binary_logloss: 0.394615\n",
      "[34]\ttraining's auc: 0.957415\ttraining's binary_logloss: 0.28637\tvalid_1's auc: 0.880735\tvalid_1's binary_logloss: 0.393751\n",
      "[35]\ttraining's auc: 0.958741\ttraining's binary_logloss: 0.283007\tvalid_1's auc: 0.882085\tvalid_1's binary_logloss: 0.39282\n",
      "[36]\ttraining's auc: 0.960031\ttraining's binary_logloss: 0.279703\tvalid_1's auc: 0.880904\tvalid_1's binary_logloss: 0.392866\n",
      "[37]\ttraining's auc: 0.961831\ttraining's binary_logloss: 0.275992\tvalid_1's auc: 0.882928\tvalid_1's binary_logloss: 0.390785\n",
      "[38]\ttraining's auc: 0.962816\ttraining's binary_logloss: 0.273055\tvalid_1's auc: 0.883772\tvalid_1's binary_logloss: 0.388808\n",
      "[39]\ttraining's auc: 0.963734\ttraining's binary_logloss: 0.270541\tvalid_1's auc: 0.881579\tvalid_1's binary_logloss: 0.391021\n",
      "[40]\ttraining's auc: 0.965009\ttraining's binary_logloss: 0.267444\tvalid_1's auc: 0.882591\tvalid_1's binary_logloss: 0.390742\n",
      "[41]\ttraining's auc: 0.965669\ttraining's binary_logloss: 0.264372\tvalid_1's auc: 0.883941\tvalid_1's binary_logloss: 0.388851\n",
      "[42]\ttraining's auc: 0.966484\ttraining's binary_logloss: 0.261707\tvalid_1's auc: 0.884784\tvalid_1's binary_logloss: 0.387449\n",
      "[43]\ttraining's auc: 0.967485\ttraining's binary_logloss: 0.258595\tvalid_1's auc: 0.886134\tvalid_1's binary_logloss: 0.385908\n",
      "[44]\ttraining's auc: 0.968393\ttraining's binary_logloss: 0.255399\tvalid_1's auc: 0.88664\tvalid_1's binary_logloss: 0.383139\n",
      "[45]\ttraining's auc: 0.969198\ttraining's binary_logloss: 0.253117\tvalid_1's auc: 0.886302\tvalid_1's binary_logloss: 0.38355\n",
      "[46]\ttraining's auc: 0.970152\ttraining's binary_logloss: 0.250157\tvalid_1's auc: 0.887146\tvalid_1's binary_logloss: 0.383293\n",
      "[47]\ttraining's auc: 0.970967\ttraining's binary_logloss: 0.247346\tvalid_1's auc: 0.887483\tvalid_1's binary_logloss: 0.384567\n",
      "[48]\ttraining's auc: 0.971772\ttraining's binary_logloss: 0.244548\tvalid_1's auc: 0.884784\tvalid_1's binary_logloss: 0.386379\n",
      "[49]\ttraining's auc: 0.972556\ttraining's binary_logloss: 0.242193\tvalid_1's auc: 0.886808\tvalid_1's binary_logloss: 0.384132\n",
      "[50]\ttraining's auc: 0.973495\ttraining's binary_logloss: 0.239882\tvalid_1's auc: 0.885965\tvalid_1's binary_logloss: 0.383398\n",
      "[51]\ttraining's auc: 0.973753\ttraining's binary_logloss: 0.23817\tvalid_1's auc: 0.885965\tvalid_1's binary_logloss: 0.383393\n",
      "[52]\ttraining's auc: 0.974207\ttraining's binary_logloss: 0.236364\tvalid_1's auc: 0.885459\tvalid_1's binary_logloss: 0.383908\n",
      "[53]\ttraining's auc: 0.974949\ttraining's binary_logloss: 0.233888\tvalid_1's auc: 0.886387\tvalid_1's binary_logloss: 0.383673\n",
      "[54]\ttraining's auc: 0.975713\ttraining's binary_logloss: 0.231522\tvalid_1's auc: 0.885712\tvalid_1's binary_logloss: 0.384657\n",
      "Early stopping, best iteration is:\n",
      "[44]\ttraining's auc: 0.968393\ttraining's binary_logloss: 0.255399\tvalid_1's auc: 0.88664\tvalid_1's binary_logloss: 0.383139\n",
      "[1]\ttraining's auc: 0.897777\ttraining's binary_logloss: 0.619909\tvalid_1's auc: 0.837847\tvalid_1's binary_logloss: 0.615063\n",
      "Training until validation scores don't improve for 10 rounds.\n",
      "[2]\ttraining's auc: 0.900401\ttraining's binary_logloss: 0.583026\tvalid_1's auc: 0.843553\tvalid_1's binary_logloss: 0.584856\n",
      "[3]\ttraining's auc: 0.907353\ttraining's binary_logloss: 0.55211\tvalid_1's auc: 0.835888\tvalid_1's binary_logloss: 0.562058\n",
      "[4]\ttraining's auc: 0.908686\ttraining's binary_logloss: 0.526348\tvalid_1's auc: 0.837166\tvalid_1's binary_logloss: 0.54315\n",
      "[5]\ttraining's auc: 0.908233\ttraining's binary_logloss: 0.504064\tvalid_1's auc: 0.841254\tvalid_1's binary_logloss: 0.525835\n",
      "[6]\ttraining's auc: 0.908017\ttraining's binary_logloss: 0.485508\tvalid_1's auc: 0.841339\tvalid_1's binary_logloss: 0.51174\n",
      "[7]\ttraining's auc: 0.90761\ttraining's binary_logloss: 0.469787\tvalid_1's auc: 0.844405\tvalid_1's binary_logloss: 0.500299\n",
      "[8]\ttraining's auc: 0.909916\ttraining's binary_logloss: 0.455069\tvalid_1's auc: 0.84202\tvalid_1's binary_logloss: 0.489914\n",
      "[9]\ttraining's auc: 0.911593\ttraining's binary_logloss: 0.443522\tvalid_1's auc: 0.842701\tvalid_1's binary_logloss: 0.48216\n",
      "[10]\ttraining's auc: 0.916553\ttraining's binary_logloss: 0.430076\tvalid_1's auc: 0.844831\tvalid_1's binary_logloss: 0.472967\n",
      "[11]\ttraining's auc: 0.920191\ttraining's binary_logloss: 0.418642\tvalid_1's auc: 0.849259\tvalid_1's binary_logloss: 0.465072\n",
      "[12]\ttraining's auc: 0.920366\ttraining's binary_logloss: 0.408516\tvalid_1's auc: 0.84977\tvalid_1's binary_logloss: 0.459227\n",
      "[13]\ttraining's auc: 0.922548\ttraining's binary_logloss: 0.399274\tvalid_1's auc: 0.852921\tvalid_1's binary_logloss: 0.453929\n",
      "[14]\ttraining's auc: 0.924478\ttraining's binary_logloss: 0.392168\tvalid_1's auc: 0.851473\tvalid_1's binary_logloss: 0.452058\n",
      "[15]\ttraining's auc: 0.925239\ttraining's binary_logloss: 0.384251\tvalid_1's auc: 0.851984\tvalid_1's binary_logloss: 0.448841\n",
      "[16]\ttraining's auc: 0.925877\ttraining's binary_logloss: 0.378189\tvalid_1's auc: 0.853432\tvalid_1's binary_logloss: 0.445104\n",
      "[17]\ttraining's auc: 0.927992\ttraining's binary_logloss: 0.371974\tvalid_1's auc: 0.855221\tvalid_1's binary_logloss: 0.44056\n",
      "[18]\ttraining's auc: 0.93022\ttraining's binary_logloss: 0.365831\tvalid_1's auc: 0.854454\tvalid_1's binary_logloss: 0.439185\n",
      "[19]\ttraining's auc: 0.931599\ttraining's binary_logloss: 0.360208\tvalid_1's auc: 0.852836\tvalid_1's binary_logloss: 0.440159\n",
      "[20]\ttraining's auc: 0.9327\ttraining's binary_logloss: 0.355127\tvalid_1's auc: 0.852836\tvalid_1's binary_logloss: 0.43887\n",
      "[21]\ttraining's auc: 0.934357\ttraining's binary_logloss: 0.348698\tvalid_1's auc: 0.852495\tvalid_1's binary_logloss: 0.439702\n",
      "[22]\ttraining's auc: 0.936235\ttraining's binary_logloss: 0.342935\tvalid_1's auc: 0.851729\tvalid_1's binary_logloss: 0.43848\n",
      "[23]\ttraining's auc: 0.938036\ttraining's binary_logloss: 0.337245\tvalid_1's auc: 0.850196\tvalid_1's binary_logloss: 0.440087\n",
      "[24]\ttraining's auc: 0.939796\ttraining's binary_logloss: 0.33192\tvalid_1's auc: 0.850707\tvalid_1's binary_logloss: 0.438577\n",
      "[25]\ttraining's auc: 0.941762\ttraining's binary_logloss: 0.326622\tvalid_1's auc: 0.849515\tvalid_1's binary_logloss: 0.440557\n",
      "[26]\ttraining's auc: 0.942894\ttraining's binary_logloss: 0.322204\tvalid_1's auc: 0.850707\tvalid_1's binary_logloss: 0.440222\n",
      "[27]\ttraining's auc: 0.944283\ttraining's binary_logloss: 0.317721\tvalid_1's auc: 0.845597\tvalid_1's binary_logloss: 0.445499\n",
      "Early stopping, best iteration is:\n",
      "[17]\ttraining's auc: 0.927992\ttraining's binary_logloss: 0.371974\tvalid_1's auc: 0.855221\tvalid_1's binary_logloss: 0.44056\n"
     ]
    },
    {
     "name": "stdout",
     "output_type": "stream",
     "text": [
      "[1]\ttraining's auc: 0.899489\ttraining's binary_logloss: 0.620561\tvalid_1's auc: 0.876288\tvalid_1's binary_logloss: 0.605054\n",
      "Training until validation scores don't improve for 10 rounds.\n",
      "[2]\ttraining's auc: 0.902998\ttraining's binary_logloss: 0.582995\tvalid_1's auc: 0.881954\tvalid_1's binary_logloss: 0.570798\n",
      "[3]\ttraining's auc: 0.908321\ttraining's binary_logloss: 0.551672\tvalid_1's auc: 0.87397\tvalid_1's binary_logloss: 0.542879\n",
      "[4]\ttraining's auc: 0.912406\ttraining's binary_logloss: 0.525698\tvalid_1's auc: 0.875343\tvalid_1's binary_logloss: 0.519634\n",
      "[5]\ttraining's auc: 0.913495\ttraining's binary_logloss: 0.502846\tvalid_1's auc: 0.874313\tvalid_1's binary_logloss: 0.501434\n",
      "[6]\ttraining's auc: 0.913274\ttraining's binary_logloss: 0.483969\tvalid_1's auc: 0.874828\tvalid_1's binary_logloss: 0.486133\n",
      "[7]\ttraining's auc: 0.916968\ttraining's binary_logloss: 0.466163\tvalid_1's auc: 0.874141\tvalid_1's binary_logloss: 0.471631\n",
      "[8]\ttraining's auc: 0.919486\ttraining's binary_logloss: 0.450522\tvalid_1's auc: 0.873111\tvalid_1's binary_logloss: 0.460456\n",
      "[9]\ttraining's auc: 0.921212\ttraining's binary_logloss: 0.438005\tvalid_1's auc: 0.876116\tvalid_1's binary_logloss: 0.449009\n",
      "[10]\ttraining's auc: 0.923853\ttraining's binary_logloss: 0.424995\tvalid_1's auc: 0.874399\tvalid_1's binary_logloss: 0.440213\n",
      "[11]\ttraining's auc: 0.924993\ttraining's binary_logloss: 0.413836\tvalid_1's auc: 0.875687\tvalid_1's binary_logloss: 0.431928\n",
      "[12]\ttraining's auc: 0.925749\ttraining's binary_logloss: 0.404206\tvalid_1's auc: 0.873369\tvalid_1's binary_logloss: 0.42677\n",
      "Early stopping, best iteration is:\n",
      "[2]\ttraining's auc: 0.902998\ttraining's binary_logloss: 0.582995\tvalid_1's auc: 0.881954\tvalid_1's binary_logloss: 0.570798\n",
      "[1]\ttraining's auc: 0.907149\ttraining's binary_logloss: 0.613314\tvalid_1's auc: 0.821245\tvalid_1's binary_logloss: 0.628975\n",
      "Training until validation scores don't improve for 10 rounds.\n",
      "[2]\ttraining's auc: 0.90718\ttraining's binary_logloss: 0.573827\tvalid_1's auc: 0.821162\tvalid_1's binary_logloss: 0.60149\n",
      "[3]\ttraining's auc: 0.913171\ttraining's binary_logloss: 0.540399\tvalid_1's auc: 0.834989\tvalid_1's binary_logloss: 0.576337\n",
      "[4]\ttraining's auc: 0.916382\ttraining's binary_logloss: 0.512863\tvalid_1's auc: 0.831512\tvalid_1's binary_logloss: 0.559866\n",
      "[5]\ttraining's auc: 0.917966\ttraining's binary_logloss: 0.489313\tvalid_1's auc: 0.835403\tvalid_1's binary_logloss: 0.543363\n",
      "[6]\ttraining's auc: 0.920411\ttraining's binary_logloss: 0.468813\tvalid_1's auc: 0.837804\tvalid_1's binary_logloss: 0.53206\n",
      "[7]\ttraining's auc: 0.920918\ttraining's binary_logloss: 0.451483\tvalid_1's auc: 0.843269\tvalid_1's binary_logloss: 0.520798\n",
      "[8]\ttraining's auc: 0.923362\ttraining's binary_logloss: 0.436497\tvalid_1's auc: 0.843931\tvalid_1's binary_logloss: 0.512729\n",
      "[9]\ttraining's auc: 0.926164\ttraining's binary_logloss: 0.421286\tvalid_1's auc: 0.844593\tvalid_1's binary_logloss: 0.505321\n",
      "[10]\ttraining's auc: 0.92738\ttraining's binary_logloss: 0.408076\tvalid_1's auc: 0.846829\tvalid_1's binary_logloss: 0.497463\n",
      "[11]\ttraining's auc: 0.928882\ttraining's binary_logloss: 0.397717\tvalid_1's auc: 0.853039\tvalid_1's binary_logloss: 0.489615\n",
      "[12]\ttraining's auc: 0.930627\ttraining's binary_logloss: 0.387862\tvalid_1's auc: 0.856764\tvalid_1's binary_logloss: 0.485766\n",
      "[13]\ttraining's auc: 0.931891\ttraining's binary_logloss: 0.378323\tvalid_1's auc: 0.857592\tvalid_1's binary_logloss: 0.481687\n",
      "[14]\ttraining's auc: 0.932926\ttraining's binary_logloss: 0.370714\tvalid_1's auc: 0.858089\tvalid_1's binary_logloss: 0.477852\n",
      "[15]\ttraining's auc: 0.933625\ttraining's binary_logloss: 0.363947\tvalid_1's auc: 0.857096\tvalid_1's binary_logloss: 0.475955\n",
      "[16]\ttraining's auc: 0.935003\ttraining's binary_logloss: 0.356992\tvalid_1's auc: 0.85842\tvalid_1's binary_logloss: 0.473816\n",
      "[17]\ttraining's auc: 0.936189\ttraining's binary_logloss: 0.35005\tvalid_1's auc: 0.859083\tvalid_1's binary_logloss: 0.470093\n",
      "[18]\ttraining's auc: 0.937918\ttraining's binary_logloss: 0.344277\tvalid_1's auc: 0.859083\tvalid_1's binary_logloss: 0.467822\n",
      "[19]\ttraining's auc: 0.938918\ttraining's binary_logloss: 0.338286\tvalid_1's auc: 0.859911\tvalid_1's binary_logloss: 0.466115\n",
      "[20]\ttraining's auc: 0.940036\ttraining's binary_logloss: 0.334013\tvalid_1's auc: 0.860904\tvalid_1's binary_logloss: 0.466481\n",
      "[21]\ttraining's auc: 0.941051\ttraining's binary_logloss: 0.329523\tvalid_1's auc: 0.859911\tvalid_1's binary_logloss: 0.467324\n",
      "[22]\ttraining's auc: 0.942734\ttraining's binary_logloss: 0.324563\tvalid_1's auc: 0.859911\tvalid_1's binary_logloss: 0.465964\n",
      "[23]\ttraining's auc: 0.943573\ttraining's binary_logloss: 0.320836\tvalid_1's auc: 0.859579\tvalid_1's binary_logloss: 0.466801\n",
      "[24]\ttraining's auc: 0.947027\ttraining's binary_logloss: 0.313828\tvalid_1's auc: 0.860076\tvalid_1's binary_logloss: 0.466033\n",
      "[25]\ttraining's auc: 0.947954\ttraining's binary_logloss: 0.310665\tvalid_1's auc: 0.858586\tvalid_1's binary_logloss: 0.467413\n",
      "[26]\ttraining's auc: 0.948974\ttraining's binary_logloss: 0.306753\tvalid_1's auc: 0.854032\tvalid_1's binary_logloss: 0.469667\n",
      "[27]\ttraining's auc: 0.951294\ttraining's binary_logloss: 0.300369\tvalid_1's auc: 0.857923\tvalid_1's binary_logloss: 0.46837\n",
      "[28]\ttraining's auc: 0.952609\ttraining's binary_logloss: 0.295452\tvalid_1's auc: 0.861235\tvalid_1's binary_logloss: 0.466564\n",
      "[29]\ttraining's auc: 0.954794\ttraining's binary_logloss: 0.29145\tvalid_1's auc: 0.858751\tvalid_1's binary_logloss: 0.470502\n",
      "[30]\ttraining's auc: 0.955824\ttraining's binary_logloss: 0.287161\tvalid_1's auc: 0.859497\tvalid_1's binary_logloss: 0.470326\n",
      "[31]\ttraining's auc: 0.957243\ttraining's binary_logloss: 0.283377\tvalid_1's auc: 0.861318\tvalid_1's binary_logloss: 0.470039\n",
      "[32]\ttraining's auc: 0.957958\ttraining's binary_logloss: 0.280047\tvalid_1's auc: 0.862808\tvalid_1's binary_logloss: 0.470253\n",
      "Early stopping, best iteration is:\n",
      "[22]\ttraining's auc: 0.942734\ttraining's binary_logloss: 0.324563\tvalid_1's auc: 0.859911\tvalid_1's binary_logloss: 0.465964\n",
      "[1]\ttraining's auc: 0.897022\ttraining's binary_logloss: 0.60776\tvalid_1's auc: 0.871054\tvalid_1's binary_logloss: 0.656392\n",
      "Training until validation scores don't improve for 10 rounds.\n",
      "[2]\ttraining's auc: 0.897519\ttraining's binary_logloss: 0.571305\tvalid_1's auc: 0.871686\tvalid_1's binary_logloss: 0.61909\n",
      "[3]\ttraining's auc: 0.90444\ttraining's binary_logloss: 0.540898\tvalid_1's auc: 0.881076\tvalid_1's binary_logloss: 0.586684\n",
      "[4]\ttraining's auc: 0.906583\ttraining's binary_logloss: 0.515487\tvalid_1's auc: 0.878946\tvalid_1's binary_logloss: 0.561175\n",
      "[5]\ttraining's auc: 0.91001\ttraining's binary_logloss: 0.494704\tvalid_1's auc: 0.882339\tvalid_1's binary_logloss: 0.541315\n",
      "[6]\ttraining's auc: 0.911762\ttraining's binary_logloss: 0.475355\tvalid_1's auc: 0.883838\tvalid_1's binary_logloss: 0.52371\n",
      "[7]\ttraining's auc: 0.914745\ttraining's binary_logloss: 0.458766\tvalid_1's auc: 0.883759\tvalid_1's binary_logloss: 0.508554\n",
      "[8]\ttraining's auc: 0.92004\ttraining's binary_logloss: 0.441293\tvalid_1's auc: 0.886916\tvalid_1's binary_logloss: 0.494807\n",
      "[9]\ttraining's auc: 0.923165\ttraining's binary_logloss: 0.426499\tvalid_1's auc: 0.885022\tvalid_1's binary_logloss: 0.484035\n",
      "[10]\ttraining's auc: 0.924633\ttraining's binary_logloss: 0.415311\tvalid_1's auc: 0.88739\tvalid_1's binary_logloss: 0.474708\n",
      "[11]\ttraining's auc: 0.926286\ttraining's binary_logloss: 0.403163\tvalid_1's auc: 0.882734\tvalid_1's binary_logloss: 0.467821\n",
      "[12]\ttraining's auc: 0.929881\ttraining's binary_logloss: 0.392458\tvalid_1's auc: 0.882812\tvalid_1's binary_logloss: 0.463299\n",
      "[13]\ttraining's auc: 0.930145\ttraining's binary_logloss: 0.383275\tvalid_1's auc: 0.882339\tvalid_1's binary_logloss: 0.459048\n",
      "[14]\ttraining's auc: 0.930277\ttraining's binary_logloss: 0.375086\tvalid_1's auc: 0.882497\tvalid_1's binary_logloss: 0.455696\n",
      "[15]\ttraining's auc: 0.93176\ttraining's binary_logloss: 0.368586\tvalid_1's auc: 0.882497\tvalid_1's binary_logloss: 0.451405\n",
      "[16]\ttraining's auc: 0.932953\ttraining's binary_logloss: 0.361383\tvalid_1's auc: 0.88155\tvalid_1's binary_logloss: 0.449514\n",
      "[17]\ttraining's auc: 0.934484\ttraining's binary_logloss: 0.355311\tvalid_1's auc: 0.881076\tvalid_1's binary_logloss: 0.449567\n",
      "[18]\ttraining's auc: 0.935551\ttraining's binary_logloss: 0.349497\tvalid_1's auc: 0.879182\tvalid_1's binary_logloss: 0.449263\n",
      "[19]\ttraining's auc: 0.937372\ttraining's binary_logloss: 0.343205\tvalid_1's auc: 0.880129\tvalid_1's binary_logloss: 0.448179\n",
      "[20]\ttraining's auc: 0.94073\ttraining's binary_logloss: 0.336547\tvalid_1's auc: 0.879498\tvalid_1's binary_logloss: 0.44912\n",
      "Early stopping, best iteration is:\n",
      "[10]\ttraining's auc: 0.924633\ttraining's binary_logloss: 0.415311\tvalid_1's auc: 0.88739\tvalid_1's binary_logloss: 0.474708\n"
     ]
    }
   ],
   "source": [
    "valid_probs = []\n",
    "test_probs = []\n",
    "for i, (train_idx, valid_idx) in enumerate(folds):\n",
    "    Xt = X_train.loc[train_idx]\n",
    "    yt = y_train.loc[train_idx]\n",
    "\n",
    "    Xv = X_train.loc[valid_idx]\n",
    "    yv = y_train.loc[valid_idx]\n",
    "\n",
    "    learner = LGBMClassifier(n_estimators=10000)\n",
    "    learner.fit(Xt, yt,  early_stopping_rounds=10, eval_metric=\"auc\",\n",
    "                eval_set=[(Xt, yt),\n",
    "                          (Xv, yv)])\n",
    "    probs = pd.Series(learner.predict_proba(Xv)[:, -1], index=Xv.index)\n",
    "    valid_probs.append(probs)\n",
    "    probs = pd.Series(learner.predict_proba(X_test)[:, -1],\n",
    "                      index=X_test.index, name=\"fold_\" + str(i))\n",
    "    test_probs.append(probs)\n",
    "valid_probs = pd.concat(valid_probs)\n",
    "test_probs = pd.concat(test_probs, axis=1).mean(axis=1)"
   ]
  },
  {
   "cell_type": "code",
   "execution_count": 18,
   "metadata": {},
   "outputs": [
    {
     "data": {
      "text/plain": [
       "0.8758169934640523"
      ]
     },
     "execution_count": 18,
     "metadata": {},
     "output_type": "execute_result"
    }
   ],
   "source": [
    "roc_auc_score(y_test, test_probs)"
   ]
  },
  {
   "cell_type": "code",
   "execution_count": 9,
   "metadata": {},
   "outputs": [
    {
     "data": {
      "text/html": [
       "<div>\n",
       "<style scoped>\n",
       "    .dataframe tbody tr th:only-of-type {\n",
       "        vertical-align: middle;\n",
       "    }\n",
       "\n",
       "    .dataframe tbody tr th {\n",
       "        vertical-align: top;\n",
       "    }\n",
       "\n",
       "    .dataframe thead th {\n",
       "        text-align: right;\n",
       "    }\n",
       "</style>\n",
       "<table border=\"1\" class=\"dataframe\">\n",
       "  <thead>\n",
       "    <tr style=\"text-align: right;\">\n",
       "      <th>Survived</th>\n",
       "      <th>0</th>\n",
       "      <th>1</th>\n",
       "    </tr>\n",
       "    <tr>\n",
       "      <th>prob</th>\n",
       "      <th></th>\n",
       "      <th></th>\n",
       "    </tr>\n",
       "  </thead>\n",
       "  <tbody>\n",
       "    <tr>\n",
       "      <th>(0.143, 0.202]</th>\n",
       "      <td>17</td>\n",
       "      <td>1</td>\n",
       "    </tr>\n",
       "    <tr>\n",
       "      <th>(0.202, 0.273]</th>\n",
       "      <td>17</td>\n",
       "      <td>1</td>\n",
       "    </tr>\n",
       "    <tr>\n",
       "      <th>(0.273, 0.382]</th>\n",
       "      <td>13</td>\n",
       "      <td>5</td>\n",
       "    </tr>\n",
       "    <tr>\n",
       "      <th>(0.382, 0.722]</th>\n",
       "      <td>3</td>\n",
       "      <td>15</td>\n",
       "    </tr>\n",
       "    <tr>\n",
       "      <th>(0.722, 0.784]</th>\n",
       "      <td>1</td>\n",
       "      <td>17</td>\n",
       "    </tr>\n",
       "  </tbody>\n",
       "</table>\n",
       "</div>"
      ],
      "text/plain": [
       "Survived         0   1\n",
       "prob                  \n",
       "(0.143, 0.202]  17   1\n",
       "(0.202, 0.273]  17   1\n",
       "(0.273, 0.382]  13   5\n",
       "(0.382, 0.722]   3  15\n",
       "(0.722, 0.784]   1  17"
      ]
     },
     "execution_count": 9,
     "metadata": {},
     "output_type": "execute_result"
    }
   ],
   "source": [
    "testeo = test_probs.rename(\"prob\").to_frame().join(data[target])\n",
    "pd.crosstab(pd.qcut(testeo.prob, 5), testeo[target])"
   ]
  },
  {
   "cell_type": "code",
   "execution_count": 10,
   "metadata": {},
   "outputs": [
    {
     "data": {
      "text/plain": [
       "Parch       0\n",
       "Age_nul     0\n",
       "SibSp       1\n",
       "Q           2\n",
       "S           2\n",
       "C           7\n",
       "Cabin       8\n",
       "Sex         9\n",
       "Pclass     12\n",
       "NumFam     17\n",
       "Ticket     39\n",
       "Age        41\n",
       "Fare       78\n",
       "dtype: int32"
      ]
     },
     "execution_count": 10,
     "metadata": {},
     "output_type": "execute_result"
    }
   ],
   "source": [
    "pd.Series(learner.feature_importances_, index=Xt.columns).sort_values()"
   ]
  },
  {
   "cell_type": "code",
   "execution_count": null,
   "metadata": {},
   "outputs": [],
   "source": []
  }
 ],
 "metadata": {
  "kernelspec": {
   "display_name": "Python 3",
   "language": "python",
   "name": "python3"
  },
  "language_info": {
   "codemirror_mode": {
    "name": "ipython",
    "version": 3
   },
   "file_extension": ".py",
   "mimetype": "text/x-python",
   "name": "python",
   "nbconvert_exporter": "python",
   "pygments_lexer": "ipython3",
   "version": "3.6.7"
  }
 },
 "nbformat": 4,
 "nbformat_minor": 2
}
