{
 "cells": [
  {
   "source": [
    "<a href=\"https://colab.research.google.com/github/Argentan/DMA_LAB2/blob/master/tutoriales/02_intro_python3.ipynb\" target=\"_parent\"><img src=\"https://colab.research.google.com/assets/colab-badge.svg\" alt=\"Open In Colab\"/></a>"
   ],
   "cell_type": "markdown",
   "metadata": {}
  },
  {
   "cell_type": "markdown",
   "metadata": {},
   "source": [
    "### Definición de funciones\n",
    "\n",
    "Las funciones se definen con la palabra clave `def`\n",
    "\n",
    "```python\n",
    "def funcion(argumento1, argumento2, argumento_con_default=None, \n",
    "            *argumentos_posicionales_aninimos, **otros_argumentos_con_nombre)\n",
    "    # hacer algo\n",
    "    algo = 0\n",
    "    return algo\n",
    "```"
   ]
  },
  {
   "cell_type": "code",
   "execution_count": 9,
   "metadata": {
    "tags": []
   },
   "outputs": [
    {
     "output_type": "stream",
     "name": "stdout",
     "text": "fuera de funcion\n"
    }
   ],
   "source": [
    "def fun():\n",
    "    print(\"hago cuentas\")\n",
    "    return 1, 2, 3\n",
    "print(\"fuera de funcion\")"
   ]
  },
  {
   "cell_type": "code",
   "execution_count": 10,
   "metadata": {
    "tags": []
   },
   "outputs": [
    {
     "output_type": "stream",
     "name": "stdout",
     "text": "hago cuentas\n"
    },
    {
     "output_type": "execute_result",
     "data": {
      "text/plain": "(1, 2, 3)"
     },
     "metadata": {},
     "execution_count": 10
    }
   ],
   "source": [
    "fun()"
   ]
  },
  {
   "cell_type": "code",
   "execution_count": 13,
   "metadata": {
    "tags": []
   },
   "outputs": [
    {
     "output_type": "stream",
     "name": "stdout",
     "text": "hago cuentas\n"
    },
    {
     "output_type": "execute_result",
     "data": {
      "text/plain": "'x es igual a 1'"
     },
     "metadata": {},
     "execution_count": 13
    }
   ],
   "source": [
    "#unpacking \n",
    "\n",
    "x, y ,z = fun()\n",
    "f\"x es igual a {x}\""
   ]
  },
  {
   "cell_type": "code",
   "execution_count": 17,
   "metadata": {
    "tags": []
   },
   "outputs": [],
   "source": [
    "def funcionCompleja(a, b=1, *args, **kwargs):\n",
    "    \"esta viene con ayuda\"\n",
    "    print(\"a =\", a)\n",
    "    print(\"b =\", b)\n",
    "    for i, arg in enumerate(args):\n",
    "        print(\"elemento {0} de args es igual a {1}\".format(i, arg))\n",
    "    for i, arg in enumerate(kwargs):\n",
    "        print(\"elemento {0} de kwargs es igual a {1}\".format(arg, kwargs[arg]))\n",
    "    return 1\n",
    "\n"
   ]
  },
  {
   "cell_type": "code",
   "execution_count": 15,
   "metadata": {
    "tags": []
   },
   "outputs": [
    {
     "output_type": "stream",
     "name": "stdout",
     "text": "a = 10\nb = 1\n"
    },
    {
     "output_type": "execute_result",
     "data": {
      "text/plain": "1"
     },
     "metadata": {},
     "execution_count": 15
    }
   ],
   "source": [
    "funcionCompleja(10)"
   ]
  },
  {
   "cell_type": "code",
   "execution_count": 16,
   "metadata": {
    "tags": []
   },
   "outputs": [
    {
     "output_type": "stream",
     "name": "stdout",
     "text": "a = a\nb = b\nelemento 0 de args es igual a otro1\nelemento 1 de args es igual a otro2\nelemento nombrado1 de kwargs es igual a tiene nombre\nelemento nombrado2 de kwargs es igual a este tambien\n"
    },
    {
     "output_type": "execute_result",
     "data": {
      "text/plain": "1"
     },
     "metadata": {},
     "execution_count": 16
    }
   ],
   "source": [
    "funcionCompleja(\"a\", \"b\", \"otro1\", \"otro2\", nombrado1=\"tiene nombre\", nombrado2=\"este tambien\")"
   ]
  },
  {
   "cell_type": "code",
   "execution_count": 18,
   "metadata": {
    "tags": []
   },
   "outputs": [
    {
     "output_type": "stream",
     "name": "stdout",
     "text": "Help on function funcionCompleja in module __main__:\n\nfuncionCompleja(a, b=1, *args, **kwargs)\n    esta viene con ayuda\n\n"
    }
   ],
   "source": [
    "help(funcionCompleja)"
   ]
  },
  {
   "cell_type": "code",
   "execution_count": 19,
   "metadata": {},
   "outputs": [
    {
     "output_type": "stream",
     "text": "\u001b[1;31mSignature:\u001b[0m \u001b[0mfuncionCompleja\u001b[0m\u001b[1;33m(\u001b[0m\u001b[0ma\u001b[0m\u001b[1;33m,\u001b[0m \u001b[0mb\u001b[0m\u001b[1;33m=\u001b[0m\u001b[1;36m1\u001b[0m\u001b[1;33m,\u001b[0m \u001b[1;33m*\u001b[0m\u001b[0margs\u001b[0m\u001b[1;33m,\u001b[0m \u001b[1;33m**\u001b[0m\u001b[0mkwargs\u001b[0m\u001b[1;33m)\u001b[0m\u001b[1;33m\u001b[0m\u001b[1;33m\u001b[0m\u001b[0m\n\u001b[1;31mDocstring:\u001b[0m esta viene con ayuda\n\u001b[1;31mFile:\u001b[0m      c:\\users\\rcesp\\onedrive\\academico\\docencia\\clases_dma_lab\\repo\\dma_lab2\\tutoriales\\<ipython-input-17-06c5b21a1523>\n\u001b[1;31mType:\u001b[0m      function\n"
    }
   ],
   "source": [
    "funcionCompleja?"
   ]
  },
  {
   "cell_type": "markdown",
   "metadata": {},
   "source": [
    "### Definición de Clases\n",
    "\n",
    "Las clases se definen con la palabra clave `class`, los argumentos de una clase tienen que ser otras clases de las cuales hereda"
   ]
  },
  {
   "cell_type": "code",
   "execution_count": 24,
   "metadata": {},
   "outputs": [],
   "source": [
    "class MiClase(object):\n",
    "    \"\"\"\n",
    "    doc string de la clase\n",
    "    \"\"\"\n",
    "    \n",
    "    def __init__(self, arg1=None, arg2=None):\n",
    "        \"\"\"\n",
    "        el método __init__ es el que se llama al crear una instancia de la clase, \n",
    "        tiene ciertas similitudes con un constructor en otros lenguajes. \n",
    "        \"\"\"\n",
    "        self.arg1 = arg1\n",
    "        self.arg2 = arg2\n",
    "\n",
    "    def metodo1(self):\n",
    "        \"\"\"\n",
    "        doc string del método\n",
    "        \"\"\"\n",
    "        return self.arg1 + self.arg2\n",
    "   "
   ]
  },
  {
   "cell_type": "code",
   "execution_count": 26,
   "metadata": {},
   "outputs": [
    {
     "output_type": "execute_result",
     "data": {
      "text/plain": "13"
     },
     "metadata": {},
     "execution_count": 26
    }
   ],
   "source": [
    "instanacia = MiClase(12, 1)\n",
    "instanacia.metodo1()"
   ]
  },
  {
   "cell_type": "code",
   "execution_count": 27,
   "metadata": {},
   "outputs": [
    {
     "output_type": "stream",
     "text": "\u001b[1;31mInit signature:\u001b[0m \u001b[0mMiClase\u001b[0m\u001b[1;33m(\u001b[0m\u001b[0marg1\u001b[0m\u001b[1;33m=\u001b[0m\u001b[1;32mNone\u001b[0m\u001b[1;33m,\u001b[0m \u001b[0marg2\u001b[0m\u001b[1;33m=\u001b[0m\u001b[1;32mNone\u001b[0m\u001b[1;33m)\u001b[0m\u001b[1;33m\u001b[0m\u001b[1;33m\u001b[0m\u001b[0m\n\u001b[1;31mDocstring:\u001b[0m      doc string de la clase\n\u001b[1;31mInit docstring:\u001b[0m\nel método __init__ es el que se llama al crear una instancia de la clase, \ntiene ciertas similitudes con un constructor en otros lenguajes. \n\u001b[1;31mType:\u001b[0m           type\n\u001b[1;31mSubclasses:\u001b[0m     \n"
    }
   ],
   "source": [
    "MiClase?"
   ]
  },
  {
   "cell_type": "code",
   "execution_count": 28,
   "metadata": {},
   "outputs": [
    {
     "output_type": "stream",
     "text": "\u001b[1;31mSignature:\u001b[0m \u001b[0minstanacia\u001b[0m\u001b[1;33m.\u001b[0m\u001b[0mmetodo1\u001b[0m\u001b[1;33m(\u001b[0m\u001b[1;33m)\u001b[0m\u001b[1;33m\u001b[0m\u001b[1;33m\u001b[0m\u001b[0m\n\u001b[1;31mDocstring:\u001b[0m doc string del método\n\u001b[1;31mFile:\u001b[0m      c:\\users\\rcesp\\onedrive\\academico\\docencia\\clases_dma_lab\\repo\\dma_lab2\\tutoriales\\<ipython-input-24-a63e8015e939>\n\u001b[1;31mType:\u001b[0m      method\n"
    }
   ],
   "source": [
    "instanacia.metodo1?"
   ]
  },
  {
   "cell_type": "markdown",
   "metadata": {},
   "source": [
    "#### Generadores\n",
    "\n",
    "Los generadores son un tipo especial de iteradores. A diferencia de una lista, por ejemplo, no contienen en memoria todos sus elementos, sino que los van \"generando\" a medida que le son requeridos"
   ]
  },
  {
   "cell_type": "code",
   "execution_count": 1,
   "metadata": {},
   "outputs": [
    {
     "output_type": "execute_result",
     "data": {
      "text/plain": "<generator object <genexpr> at 0x0000022921494B88>"
     },
     "metadata": {},
     "execution_count": 1
    }
   ],
   "source": [
    "generator = (a for a in range(10))\n",
    "generator"
   ]
  },
  {
   "cell_type": "code",
   "execution_count": 2,
   "metadata": {
    "tags": []
   },
   "outputs": [
    {
     "output_type": "stream",
     "name": "stdout",
     "text": "0\n1\n2\n3\n4\n5\n6\n7\n8\n9\n"
    }
   ],
   "source": [
    "for a in generator:\n",
    "    print(a)"
   ]
  },
  {
   "cell_type": "code",
   "execution_count": 3,
   "metadata": {},
   "outputs": [
    {
     "output_type": "execute_result",
     "data": {
      "text/plain": "[]"
     },
     "metadata": {},
     "execution_count": 3
    }
   ],
   "source": [
    "list(generator)"
   ]
  },
  {
   "cell_type": "code",
   "execution_count": 4,
   "metadata": {},
   "outputs": [],
   "source": [
    "def gen():\n",
    "    for a in range(10):\n",
    "        yield a"
   ]
  },
  {
   "cell_type": "code",
   "execution_count": 5,
   "metadata": {
    "tags": []
   },
   "outputs": [
    {
     "output_type": "stream",
     "name": "stdout",
     "text": "0\n1\n2\n3\n4\n5\n6\n7\n8\n9\n"
    }
   ],
   "source": [
    "for a in gen():\n",
    "    print(a)"
   ]
  },
  {
   "cell_type": "code",
   "execution_count": null,
   "metadata": {},
   "outputs": [],
   "source": []
  }
 ],
 "metadata": {
  "kernelspec": {
   "display_name": "Python 3",
   "language": "python",
   "name": "python3"
  },
  "language_info": {
   "codemirror_mode": {
    "name": "ipython",
    "version": 3
   },
   "file_extension": ".py",
   "mimetype": "text/x-python",
   "name": "python",
   "nbconvert_exporter": "python",
   "pygments_lexer": "ipython3",
   "version": "3.7.9-final"
  }
 },
 "nbformat": 4,
 "nbformat_minor": 2
}