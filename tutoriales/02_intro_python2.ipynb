{
 "cells": [
  {
   "cell_type": "markdown",
   "metadata": {},
   "source": [
    "# Estructuras de control\n",
    "\n",
    "## Comparadores lógicos\n",
    "\n",
    "| Operador | Acción |\n",
    "| -------- | ------ |\n",
    "| ==       | igual  |\n",
    "| > =       | mayor o igual |\n",
    "| >        | mayor estricto |\n",
    "| < =      | menor o igual |\n",
    "| <     | menor estricto |\n",
    "| ! = | desigual|\n",
    "| or | o |\n",
    "| and | y |\n"
   ]
  },
  {
   "cell_type": "code",
   "execution_count": 1,
   "metadata": {},
   "outputs": [
    {
     "output_type": "execute_result",
     "data": {
      "text/plain": "True"
     },
     "metadata": {},
     "execution_count": 1
    }
   ],
   "source": [
    "1 == 1"
   ]
  },
  {
   "cell_type": "code",
   "execution_count": 2,
   "metadata": {},
   "outputs": [
    {
     "output_type": "execute_result",
     "data": {
      "text/plain": "False"
     },
     "metadata": {},
     "execution_count": 2
    }
   ],
   "source": [
    "1 == 2"
   ]
  },
  {
   "cell_type": "code",
   "execution_count": 3,
   "metadata": {},
   "outputs": [
    {
     "output_type": "execute_result",
     "data": {
      "text/plain": "True"
     },
     "metadata": {},
     "execution_count": 3
    }
   ],
   "source": [
    "1 == 1."
   ]
  },
  {
   "cell_type": "code",
   "execution_count": 4,
   "metadata": {},
   "outputs": [
    {
     "output_type": "execute_result",
     "data": {
      "text/plain": "True"
     },
     "metadata": {},
     "execution_count": 4
    }
   ],
   "source": [
    "\"hola\" == \"hola\""
   ]
  },
  {
   "cell_type": "code",
   "execution_count": 5,
   "metadata": {},
   "outputs": [
    {
     "output_type": "execute_result",
     "data": {
      "text/plain": "False"
     },
     "metadata": {},
     "execution_count": 5
    }
   ],
   "source": [
    "\"hola\" == \"Hola\""
   ]
  },
  {
   "cell_type": "code",
   "execution_count": 6,
   "metadata": {},
   "outputs": [
    {
     "output_type": "execute_result",
     "data": {
      "text/plain": "True"
     },
     "metadata": {},
     "execution_count": 6
    }
   ],
   "source": [
    "\"hola\" != \"Hola\""
   ]
  },
  {
   "cell_type": "code",
   "execution_count": 7,
   "metadata": {},
   "outputs": [
    {
     "output_type": "execute_result",
     "data": {
      "text/plain": "True"
     },
     "metadata": {},
     "execution_count": 7
    }
   ],
   "source": [
    "(1 == 1) and (2 == 2)"
   ]
  },
  {
   "cell_type": "code",
   "execution_count": 8,
   "metadata": {},
   "outputs": [
    {
     "output_type": "execute_result",
     "data": {
      "text/plain": "False"
     },
     "metadata": {},
     "execution_count": 8
    }
   ],
   "source": [
    "(1 == 1) and (2 != 2)"
   ]
  },
  {
   "cell_type": "code",
   "execution_count": 9,
   "metadata": {},
   "outputs": [
    {
     "output_type": "execute_result",
     "data": {
      "text/plain": "True"
     },
     "metadata": {},
     "execution_count": 9
    }
   ],
   "source": [
    "(1 == 1) or (2 != 2)"
   ]
  },
  {
   "cell_type": "code",
   "execution_count": 12,
   "metadata": {},
   "outputs": [
    {
     "output_type": "execute_result",
     "data": {
      "text/plain": "False"
     },
     "metadata": {},
     "execution_count": 12
    }
   ],
   "source": [
    "not ((1 == 1) or (2 == 2))"
   ]
  },
  {
   "cell_type": "code",
   "execution_count": 13,
   "metadata": {},
   "outputs": [
    {
     "output_type": "execute_result",
     "data": {
      "text/plain": "True"
     },
     "metadata": {},
     "execution_count": 13
    }
   ],
   "source": [
    "not (1 == 1) or (2 == 2)"
   ]
  },
  {
   "cell_type": "markdown",
   "metadata": {},
   "source": [
    "## Condicionales"
   ]
  },
  {
   "cell_type": "code",
   "execution_count": 17,
   "metadata": {
    "tags": []
   },
   "outputs": [
    {
     "output_type": "stream",
     "name": "stdout",
     "text": "econtrado\n"
    }
   ],
   "source": [
    "persona = \"Juan\"\n",
    "if (persona == \"Juan\"):\n",
    "    print(\"econtrado\")"
   ]
  },
  {
   "cell_type": "code",
   "execution_count": 18,
   "metadata": {
    "tags": []
   },
   "outputs": [
    {
     "output_type": "stream",
     "name": "stdout",
     "text": "no encontrado\n"
    }
   ],
   "source": [
    "if (persona == \"Pedro\"):\n",
    "    print(\"econtrado\")\n",
    "else:\n",
    "    print(\"no encontrado\")"
   ]
  },
  {
   "cell_type": "code",
   "execution_count": 20,
   "metadata": {
    "tags": []
   },
   "outputs": [
    {
     "output_type": "stream",
     "name": "stdout",
     "text": "econtrado Juan\n"
    }
   ],
   "source": [
    "if (persona == \"Pedro\"):\n",
    "    print(\"econtrado Pedro\")\n",
    "elif (persona == \"Juan\"): \n",
    "    print(\"econtrado Juan\")\n",
    "else:\n",
    "    print(\"no encontrado\")"
   ]
  },
  {
   "cell_type": "markdown",
   "metadata": {},
   "source": [
    "## Loops"
   ]
  },
  {
   "cell_type": "code",
   "execution_count": 21,
   "metadata": {
    "tags": []
   },
   "outputs": [
    {
     "output_type": "stream",
     "name": "stdout",
     "text": "1\n2\n3\n"
    }
   ],
   "source": [
    "# for loop\n",
    "\n",
    "for a in [1, 2, 3]:\n",
    "    print(a)"
   ]
  },
  {
   "cell_type": "code",
   "execution_count": 22,
   "metadata": {
    "tags": []
   },
   "outputs": [
    {
     "output_type": "stream",
     "name": "stdout",
     "text": "1\n2\n3\n"
    }
   ],
   "source": [
    "lista = [1, 2, 3]\n",
    "for a in lista:\n",
    "    print(a)"
   ]
  },
  {
   "cell_type": "code",
   "execution_count": 23,
   "metadata": {
    "tags": []
   },
   "outputs": [
    {
     "output_type": "stream",
     "name": "stdout",
     "text": "v1\nv2\nv3\n"
    }
   ],
   "source": [
    "diccionario = {\"v1\": 1, \"v2\": 2, \"v3\": 3}\n",
    "for a in diccionario:\n",
    "    print(a)"
   ]
  },
  {
   "cell_type": "code",
   "execution_count": 25,
   "metadata": {
    "tags": []
   },
   "outputs": [
    {
     "output_type": "stream",
     "name": "stdout",
     "text": "v1 1\nv2 2\nv3 3\n"
    }
   ],
   "source": [
    "diccionario = {\"v1\": 1, \"v2\": 2, \"v3\": 3}\n",
    "for a in diccionario.keys():\n",
    "    print(a, diccionario[a])"
   ]
  },
  {
   "cell_type": "code",
   "execution_count": 28,
   "metadata": {
    "tags": []
   },
   "outputs": [
    {
     "output_type": "stream",
     "name": "stdout",
     "text": "llave: v1, valor: 1\nllave: v2, valor: 2\nllave: v3, valor: 3\n"
    }
   ],
   "source": [
    "diccionario = {\"v1\": 1, \"v2\": 2, \"v3\": 3}\n",
    "for k, v in diccionario.items():\n",
    "    print(f\"llave: {k}, valor: {v}\")"
   ]
  },
  {
   "cell_type": "code",
   "execution_count": 29,
   "metadata": {},
   "outputs": [
    {
     "output_type": "execute_result",
     "data": {
      "text/plain": "dict_items([('v1', 1), ('v2', 2), ('v3', 3)])"
     },
     "metadata": {},
     "execution_count": 29
    }
   ],
   "source": [
    "diccionario.items()"
   ]
  },
  {
   "cell_type": "code",
   "execution_count": 30,
   "metadata": {},
   "outputs": [
    {
     "output_type": "execute_result",
     "data": {
      "text/plain": "(1, 2)"
     },
     "metadata": {},
     "execution_count": 30
    }
   ],
   "source": [
    "v1, v2 = 1, 2\n",
    "v1, v2"
   ]
  },
  {
   "cell_type": "code",
   "execution_count": 47,
   "metadata": {
    "tags": []
   },
   "outputs": [
    {
     "output_type": "stream",
     "name": "stdout",
     "text": "el indice 0 tienen un valor a\nel indice 1 tienen un valor b\nel indice 2 tienen un valor c\n"
    }
   ],
   "source": [
    "lista = [\"a\", \"b\", \"c\"]\n",
    "for indice in range(len(lista)):\n",
    "    print(f\"el indice {indice} tienen un valor {lista[indice]}\")"
   ]
  },
  {
   "cell_type": "code",
   "execution_count": 48,
   "metadata": {
    "tags": []
   },
   "outputs": [
    {
     "output_type": "stream",
     "name": "stdout",
     "text": "el indice 0 tienen un valor a\nel indice 1 tienen un valor b\nel indice 2 tienen un valor c\n"
    }
   ],
   "source": [
    "for indice, elemento in enumerate(lista):\n",
    "    print(f\"el indice {indice} tienen un valor {lista[indice]}\")"
   ]
  },
  {
   "cell_type": "code",
   "execution_count": 32,
   "metadata": {
    "tags": []
   },
   "outputs": [
    {
     "output_type": "stream",
     "name": "stdout",
     "text": "0\nnuevo cent: 0.7441877683574308\n"
    }
   ],
   "source": [
    "# while loops\n",
    "\n",
    "from random import random\n",
    "\n",
    "cent = 0\n",
    "print(cent)\n",
    "while cent < 0.5:\n",
    "    cent = random()\n",
    "    print(\"nuevo cent:\", cent)"
   ]
  },
  {
   "cell_type": "markdown",
   "metadata": {},
   "source": [
    "## list comprehension"
   ]
  },
  {
   "cell_type": "code",
   "execution_count": 39,
   "metadata": {
    "tags": []
   },
   "outputs": [
    {
     "output_type": "stream",
     "name": "stdout",
     "text": "1.76 ms ± 74.9 µs per loop (mean ± std. dev. of 7 runs, 1000 loops each)\n"
    }
   ],
   "source": [
    "%%timeit\n",
    "lista1 = []\n",
    "for a in range(10000):\n",
    "    b = a / 2 + 10\n",
    "    lista1.append(b)"
   ]
  },
  {
   "cell_type": "code",
   "execution_count": 36,
   "metadata": {
    "tags": []
   },
   "outputs": [
    {
     "output_type": "stream",
     "name": "stdout",
     "text": "1.19 ms ± 81.3 µs per loop (mean ± std. dev. of 7 runs, 1000 loops each)\n"
    }
   ],
   "source": [
    "%%timeit\n",
    "lista2 = [a / 2 + 10 for a in range(10000)]"
   ]
  },
  {
   "cell_type": "code",
   "execution_count": 40,
   "metadata": {},
   "outputs": [],
   "source": [
    "lista1 = []\n",
    "for a in range(10):\n",
    "    b = a / 2 + 10\n",
    "    lista1.append(b)\n",
    "lista2 = [a / 2 + 10 for a in range(10)]"
   ]
  },
  {
   "cell_type": "code",
   "execution_count": 41,
   "metadata": {
    "tags": []
   },
   "outputs": [
    {
     "output_type": "stream",
     "name": "stdout",
     "text": "False\nTrue\n"
    }
   ],
   "source": [
    "print(lista1 is lista2)\n",
    "print(lista1 == lista2)"
   ]
  },
  {
   "cell_type": "code",
   "execution_count": 42,
   "metadata": {},
   "outputs": [
    {
     "output_type": "execute_result",
     "data": {
      "text/plain": "True"
     },
     "metadata": {},
     "execution_count": 42
    }
   ],
   "source": [
    "lista3 = lista2\n",
    "lista3 is lista2"
   ]
  },
  {
   "cell_type": "code",
   "execution_count": 43,
   "metadata": {},
   "outputs": [
    {
     "output_type": "execute_result",
     "data": {
      "text/plain": "['nuevo_elemento', 10.5, 11.0, 11.5, 12.0, 12.5, 13.0, 13.5, 14.0, 14.5]"
     },
     "metadata": {},
     "execution_count": 43
    }
   ],
   "source": [
    "lista2[0] = \"nuevo_elemento\"\n",
    "lista3"
   ]
  },
  {
   "cell_type": "code",
   "execution_count": 44,
   "metadata": {},
   "outputs": [
    {
     "output_type": "execute_result",
     "data": {
      "text/plain": "[10.0, 10.5, 11.0, 11.5, 12.0, 12.5, 13.0, 13.5, 14.0, 14.5]"
     },
     "metadata": {},
     "execution_count": 44
    }
   ],
   "source": [
    "lista4 = lista1.copy()\n",
    "lista1[0] = \"nuevo2\"\n",
    "lista4"
   ]
  },
  {
   "cell_type": "markdown",
   "metadata": {},
   "source": [
    "## dictionary comprehension"
   ]
  },
  {
   "cell_type": "code",
   "execution_count": 49,
   "metadata": {},
   "outputs": [
    {
     "output_type": "execute_result",
     "data": {
      "text/plain": "{'v1': 1, 'v2': 2, 'v3': 3}"
     },
     "metadata": {},
     "execution_count": 49
    }
   ],
   "source": [
    "dic_comp ={k: v for k, v in [(\"v1\", 1), (\"v2\", 2), (\"v3\", 3)]}\n",
    "dic_comp"
   ]
  },
  {
   "cell_type": "markdown",
   "metadata": {},
   "source": [
    "## Ejercicios \n",
    "\n",
    "1. crear una lista con valores del 100 al 500 a intervaloes de 50\n",
    "2. convertir esa lista en un diccionario donde los valores sean los elementos de la lista y las llaves el texto 'pago_{i}' donde i es el indice del pago, ej. pago_1 = 100\n",
    "3. sacar el valor actual de la lista considerandola una lista de pagos a intervalos regulares con una tasa de interes del 100%. El valor actual es la suma de los valores individuales descontados por el interes, cada pago se descuenta dividiendolo por (1 + tasa)^indice, por ej. 150 / ((1 + 1) ** 2). Recordar que los indices empiezan en 0"
   ]
  },
  {
   "cell_type": "code",
   "execution_count": null,
   "metadata": {},
   "outputs": [],
   "source": []
  }
 ],
 "metadata": {
  "kernelspec": {
   "display_name": "Python 3",
   "language": "python",
   "name": "python3"
  },
  "language_info": {
   "codemirror_mode": {
    "name": "ipython",
    "version": 3
   },
   "file_extension": ".py",
   "mimetype": "text/x-python",
   "name": "python",
   "nbconvert_exporter": "python",
   "pygments_lexer": "ipython3",
   "version": "3.7.3-final"
  }
 },
 "nbformat": 4,
 "nbformat_minor": 2
}